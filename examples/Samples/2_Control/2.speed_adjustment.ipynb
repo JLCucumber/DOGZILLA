{
 "cells": [
  {
   "cell_type": "code",
   "execution_count": 1,
   "id": "849109ae-60b9-46ef-bc14-41b05dbee136",
   "metadata": {},
   "outputs": [],
   "source": [
    "# 导入库  import library\n",
    "import ipywidgets.widgets as widgets\n",
    "from IPython.display import display"
   ]
  },
  {
   "cell_type": "code",
   "execution_count": 2,
   "id": "bbf26a2e-7e43-43c5-a55a-644e8ee27ff2",
   "metadata": {},
   "outputs": [],
   "source": [
    "# Dogzilla drive library\n",
    "from DOGZILLALib import DOGZILLA\n",
    "g_dog = DOGZILLA()"
   ]
  },
  {
   "cell_type": "markdown",
   "id": "1e66d7c2-0cd2-4c98-a4df-ff6e38fb6681",
   "metadata": {
    "tags": []
   },
   "source": [
    "# 步频与步幅共同作用控制机器狗运动速度\n",
    "# Step pace and width together to control the movement speed of the robot dog"
   ]
  },
  {
   "cell_type": "code",
   "execution_count": 3,
   "id": "4ac392ce-1676-48ab-80c4-1aca98a1a4f4",
   "metadata": {},
   "outputs": [],
   "source": [
    "# 中文开关，默认为英文 Chinese switch. The default value is English\n",
    "g_ENABLE_CHINESE = False\n",
    "\n",
    "Name_widgets = {\n",
    "    'Stop': (\"Stop\", \"停止\"),\n",
    "    'Normal': (\"Normal\", \"默认步频\"),\n",
    "    'Slow': (\"Slow\", \"慢速步频\"),\n",
    "    'High': (\"High\", \"高速步频\"),\n",
    "    'Step_X': (\"Step_X\", \"前进后退X\"),\n",
    "    'Step_Y': (\"Step_Y\", \"左右平移Y\"),\n",
    "    'Speed_Z': (\"Speed_Z\", \"左右旋转Z\")\n",
    "}"
   ]
  },
  {
   "cell_type": "code",
   "execution_count": 4,
   "id": "26d67311-3af1-489d-81a7-4f25a0aeec89",
   "metadata": {},
   "outputs": [],
   "source": [
    "# 保存滑块的上一个值，主要用于定位哪个滑竿数值改变。\n",
    "# Saves the last value of the slider, mainly to locate which slider value has changed\n",
    "g_last_x = 0\n",
    "g_last_y = 0\n",
    "g_last_z = 0"
   ]
  },
  {
   "cell_type": "code",
   "execution_count": 5,
   "id": "ca9900a3-8fe5-4acd-875d-75d731386e7a",
   "metadata": {},
   "outputs": [],
   "source": [
    "# 停止 STOP\n",
    "button_stop = widgets.Button(       \n",
    "    description=Name_widgets['Stop'][g_ENABLE_CHINESE],\n",
    "    button_style='info', # 'success', 'info', 'warning', 'danger' or ''\n",
    "    tooltip='Description',\n",
    "    icon='uncheck' )\n",
    "\n",
    "# 默认步频  normal pace\n",
    "button_normal = widgets.Button(         \n",
    "    description=Name_widgets['Normal'][g_ENABLE_CHINESE],        \n",
    "    button_style='info', # 'success', 'info', 'warning', 'danger' or ''     \n",
    "    tooltip='Description',\n",
    "    icon='check' )\n",
    "\n",
    "# 慢速步频 slow pace\n",
    "button_slow = widgets.Button(         \n",
    "    description=Name_widgets['Slow'][g_ENABLE_CHINESE],        \n",
    "    button_style='info', # 'success', 'info', 'warning', 'danger' or ''     \n",
    "    tooltip='Description',\n",
    "    icon='uncheck' )\n",
    "\n",
    "# 高速步频 high pace\n",
    "button_high = widgets.Button(        \n",
    "    description=Name_widgets['High'][g_ENABLE_CHINESE],       \n",
    "    button_style='info', # 'success', 'info', 'warning', 'danger' or ''     \n",
    "    tooltip='Description',\n",
    "    icon='uncheck' )\n"
   ]
  },
  {
   "cell_type": "code",
   "execution_count": 6,
   "id": "a03b71b8-7f4a-4231-a36a-d29e4791e22a",
   "metadata": {},
   "outputs": [],
   "source": [
    "# 清除按键显示状态  Clear button display status\n",
    "def ALL_Uncheck():\n",
    "    button_normal.icon = 'uncheck'\n",
    "    button_slow.icon = 'uncheck'\n",
    "    button_high.icon = 'uncheck'\n",
    "    g_dog.stop()\n",
    "\n",
    "# 按键按下事件处理   Key press event processing\n",
    "def on_button_clicked(b):\n",
    "    if b.description == Name_widgets['Stop'][g_ENABLE_CHINESE]:\n",
    "        slider_x.value = 0\n",
    "        slider_y.value = 0\n",
    "        slider_z.value = 0\n",
    "        return\n",
    "    ALL_Uncheck()\n",
    "    b.icon = 'check'\n",
    "    with output:\n",
    "        print(\"Button clicked:\", b.description)\n",
    "    if b.description == Name_widgets['Normal'][g_ENABLE_CHINESE]:\n",
    "        g_dog.pace('normal')\n",
    "    elif b.description == Name_widgets['Slow'][g_ENABLE_CHINESE]:\n",
    "        g_dog.pace('slow')\n",
    "    elif b.description == Name_widgets['High'][g_ENABLE_CHINESE]:\n",
    "        g_dog.pace('high')\n",
    "    else:\n",
    "        return\n",
    "    if g_last_x != 0:\n",
    "        g_dog.move('x', g_last_x)\n",
    "    if g_last_y != 0:\n",
    "        g_dog.move('y', g_last_y)\n",
    "    if g_last_z != 0:\n",
    "        g_dog.turn(g_last_z)\n",
    "\n",
    "# 滑块滑动事件处理  Slider event handling\n",
    "def on_slider_slide(x, y, z):\n",
    "    global g_last_x, g_last_y, g_last_z\n",
    "    print(\"   slider:\", x, y, z)\n",
    "    if g_last_x != x:\n",
    "        g_last_x = x\n",
    "        g_dog.move('x', x)\n",
    "        with output:\n",
    "            print(\"move x:\", x)\n",
    "    if g_last_y != y:\n",
    "        g_last_y = y\n",
    "        g_dog.move('y', y)\n",
    "        with output:\n",
    "            print(\"move y:\", y)\n",
    "    if g_last_z != z:\n",
    "        g_last_z = z\n",
    "        step = 0\n",
    "        if z > 0:\n",
    "            step = int(z/2+20)\n",
    "        elif z < 0:\n",
    "            step = int(z/2-20)\n",
    "        else:\n",
    "            step = 0\n",
    "        g_dog.turn(step)\n",
    "        with output:\n",
    "            print(\"turn z:\", z, step)"
   ]
  },
  {
   "cell_type": "code",
   "execution_count": 7,
   "id": "dae43019-7f03-4329-a13b-97ea27f38d83",
   "metadata": {},
   "outputs": [],
   "source": [
    "# 关联按键事件回调 Button event callbacks\n",
    "button_normal.on_click(on_button_clicked)\n",
    "button_slow.on_click(on_button_clicked)\n",
    "button_high.on_click(on_button_clicked)\n",
    "button_stop.on_click(on_button_clicked)"
   ]
  },
  {
   "cell_type": "code",
   "execution_count": 8,
   "id": "9e54756e-4431-48d7-8d1c-347973cf7027",
   "metadata": {},
   "outputs": [],
   "source": [
    "# 创建滑块控制步幅，slider_x控制前进后退，slider_y控制左右平移，slider_z控制左右旋转。\n",
    "# Create sliders to control speed, slider_x to control forward and backward, slider_y to control left and right translation, and slider_z to control left and right rotation.\n",
    "slider_x = widgets.IntSlider(description=Name_widgets['Step_X'][g_ENABLE_CHINESE]+':', value=0 , min=-20,max=20,step=5, orientation='horizontal')\n",
    "slider_y = widgets.IntSlider(description=Name_widgets['Step_Y'][g_ENABLE_CHINESE]+':', value=0 , min=-18,max=18,step=3, orientation='horizontal')\n",
    "slider_z = widgets.IntSlider(description=Name_widgets['Speed_Z'][g_ENABLE_CHINESE]+':', value=0 , min=-100,max=100,step=20, orientation='horizontal')"
   ]
  },
  {
   "cell_type": "markdown",
   "id": "6c1cd3d8-9748-4e77-9b81-b86236a53285",
   "metadata": {},
   "source": [
    "## 布局控件并显示  Layout widgets and display them"
   ]
  },
  {
   "cell_type": "code",
   "execution_count": 9,
   "id": "7288aaba-b48c-4f11-8d85-18719be5e1db",
   "metadata": {},
   "outputs": [
    {
     "data": {
      "application/vnd.jupyter.widget-view+json": {
       "model_id": "6ff78867c44d4fd1a50f2e23d6497c31",
       "version_major": 2,
       "version_minor": 0
      },
      "text/plain": [
       "VBox(children=(HBox(children=(VBox(children=(Button(button_style='info', description='Normal', icon='check', s…"
      ]
     },
     "metadata": {},
     "output_type": "display_data"
    }
   ],
   "source": [
    "# 布局控件并显示  Layout widgets and display them\n",
    "output = widgets.Output()\n",
    "box_btn = widgets.VBox([button_normal, button_slow, button_high, button_stop])\n",
    "box_slider = widgets.interactive(on_slider_slide, x=slider_x, y=slider_y, z=slider_z)\n",
    "box_h = widgets.HBox([box_btn, box_slider])\n",
    "box_display = widgets.VBox([box_h, output])\n",
    "display(box_display)"
   ]
  },
  {
   "cell_type": "code",
   "execution_count": null,
   "id": "e8bf7bd3-bac1-422b-ab22-4df0dda67829",
   "metadata": {},
   "outputs": [],
   "source": []
  }
 ],
 "metadata": {
  "kernelspec": {
   "display_name": "Python 3 (ipykernel)",
   "language": "python",
   "name": "python3"
  },
  "language_info": {
   "codemirror_mode": {
    "name": "ipython",
    "version": 3
   },
   "file_extension": ".py",
   "mimetype": "text/x-python",
   "name": "python",
   "nbconvert_exporter": "python",
   "pygments_lexer": "ipython3",
   "version": "3.9.13"
  }
 },
 "nbformat": 4,
 "nbformat_minor": 5
}
