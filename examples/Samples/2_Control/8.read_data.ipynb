{
 "cells": [
  {
   "cell_type": "code",
   "execution_count": 1,
   "id": "849109ae-60b9-46ef-bc14-41b05dbee136",
   "metadata": {},
   "outputs": [],
   "source": [
    "# 导入库  import library\n",
    "import ipywidgets.widgets as widgets\n",
    "from IPython.display import display"
   ]
  },
  {
   "cell_type": "code",
   "execution_count": 2,
   "id": "bbf26a2e-7e43-43c5-a55a-644e8ee27ff2",
   "metadata": {},
   "outputs": [],
   "source": [
    "# Dogzilla drive library\n",
    "from DOGZILLALib import DOGZILLA\n",
    "g_dog = DOGZILLA()"
   ]
  },
  {
   "cell_type": "markdown",
   "id": "541d40b3-2f43-449d-8079-2dc7cff2b240",
   "metadata": {
    "tags": []
   },
   "source": [
    "# 读取数据，包括底板固件版本号、舵机角度、电池电量和姿态角。\n",
    "# Read data, including firmware version，steering gear Angle, battery level, and attitude Angle"
   ]
  },
  {
   "cell_type": "code",
   "execution_count": 3,
   "id": "4ac392ce-1676-48ab-80c4-1aca98a1a4f4",
   "metadata": {},
   "outputs": [],
   "source": [
    "# 中文开关，默认为英文 Chinese switch. The default value is English\n",
    "g_ENABLE_CHINESE = False\n",
    "\n",
    "Name_widgets = {\n",
    "    'Read_version': (\"Read_version\", \"读取版本号\"),\n",
    "    'Read_battery': (\"Read_battery\", \"读取电压\"),\n",
    "    'Read_motor': (\"Read_motor\", \"读取舵机角度\"),\n",
    "    'Read_roll': (\"Read_roll\", \"读取ROLL\"),\n",
    "    'Read_pitch': (\"Read_pitch\", \"读取PITCH\"),\n",
    "    'Read_yaw': (\"Read_yaw\", \"读取YAW\")\n",
    "}"
   ]
  },
  {
   "cell_type": "code",
   "execution_count": 4,
   "id": "ca9900a3-8fe5-4acd-875d-75d731386e7a",
   "metadata": {},
   "outputs": [],
   "source": [
    "# 读取固件版本号 Read_version\n",
    "button_Read_version = widgets.Button(       \n",
    "    description=Name_widgets['Read_version'][g_ENABLE_CHINESE],\n",
    "    button_style='info', # 'success', 'info', 'warning', 'danger' or ''\n",
    "    tooltip='Description',\n",
    "    icon='uncheck' )\n",
    "\n",
    "\n",
    "# 读取电压 Read_battery\n",
    "button_Read_battery = widgets.Button(       \n",
    "    description=Name_widgets['Read_battery'][g_ENABLE_CHINESE],\n",
    "    button_style='info', # 'success', 'info', 'warning', 'danger' or ''\n",
    "    tooltip='Description',\n",
    "    icon='uncheck' )\n",
    "\n",
    "# 读取舵机角度 Read_motor\n",
    "button_Read_motor = widgets.Button(     \n",
    "    description=Name_widgets['Read_motor'][g_ENABLE_CHINESE],        \n",
    "    button_style='info', # 'success', 'info', 'warning', 'danger' or ''     \n",
    "    tooltip='Description',     \n",
    "    icon='uncheck' )\n",
    "\n",
    "# 读取ROLL Read_roll\n",
    "button_Read_roll = widgets.Button(        \n",
    "    description=Name_widgets['Read_roll'][g_ENABLE_CHINESE],         \n",
    "    button_style='info', # 'success', 'info', 'warning', 'danger' or ''     \n",
    "    tooltip='Description',     \n",
    "    icon='uncheck' )\n",
    "\n",
    "# 读取PITCH Read_pitch\n",
    "button_Read_pitch = widgets.Button(        \n",
    "    description=Name_widgets['Read_pitch'][g_ENABLE_CHINESE],         \n",
    "    button_style='info', # 'success', 'info', 'warning', 'danger' or ''     \n",
    "    tooltip='Description',     \n",
    "    icon='uncheck' )\n",
    "\n",
    "# 读取YAW Read_yaw\n",
    "button_Read_yaw = widgets.Button(        \n",
    "    description=Name_widgets['Read_yaw'][g_ENABLE_CHINESE],         \n",
    "    button_style='info', # 'success', 'info', 'warning', 'danger' or ''     \n",
    "    tooltip='Description',     \n",
    "    icon='uncheck' )\n"
   ]
  },
  {
   "cell_type": "code",
   "execution_count": 5,
   "id": "a03b71b8-7f4a-4231-a36a-d29e4791e22a",
   "metadata": {},
   "outputs": [],
   "source": [
    "# 按键按下事件处理   Key press event processing\n",
    "def on_button_clicked(b):\n",
    "    # with output:\n",
    "    #     print(\"Button clicked:\", b.description)\n",
    "    if b.description == Name_widgets['Read_version'][g_ENABLE_CHINESE]:\n",
    "        version = g_dog.read_version()\n",
    "        with output:\n",
    "            print(\"version:\", version)\n",
    "    elif b.description == Name_widgets['Read_battery'][g_ENABLE_CHINESE]:\n",
    "        battery = g_dog.read_battery()\n",
    "        with output:\n",
    "            print(\"battery:\", battery)\n",
    "    elif b.description == Name_widgets['Read_motor'][g_ENABLE_CHINESE]:\n",
    "        motor = g_dog.read_motor()\n",
    "        with output:\n",
    "            print(\"motor:\", motor)\n",
    "    elif b.description == Name_widgets['Read_roll'][g_ENABLE_CHINESE]:\n",
    "        roll = g_dog.read_roll()\n",
    "        with output:\n",
    "            print(\"roll:\", roll)\n",
    "    elif b.description == Name_widgets['Read_pitch'][g_ENABLE_CHINESE]:\n",
    "        pitch = g_dog.read_pitch()\n",
    "        with output:\n",
    "            print(\"pitch:\", pitch)\n",
    "    elif b.description == Name_widgets['Read_yaw'][g_ENABLE_CHINESE]:\n",
    "        yaw = g_dog.read_yaw()\n",
    "        with output:\n",
    "            print(\"yaw:\", yaw)"
   ]
  },
  {
   "cell_type": "code",
   "execution_count": 6,
   "id": "dae43019-7f03-4329-a13b-97ea27f38d83",
   "metadata": {},
   "outputs": [],
   "source": [
    "# 关联按键事件回调 Button event callbacks\n",
    "button_Read_version.on_click(on_button_clicked)\n",
    "button_Read_battery.on_click(on_button_clicked)\n",
    "button_Read_motor.on_click(on_button_clicked)\n",
    "button_Read_roll.on_click(on_button_clicked)\n",
    "button_Read_pitch.on_click(on_button_clicked)\n",
    "button_Read_yaw.on_click(on_button_clicked)"
   ]
  },
  {
   "cell_type": "markdown",
   "id": "c237f334-5eca-4623-9342-04c02eef5ac7",
   "metadata": {},
   "source": [
    "## 布局控件并显示  Layout widgets and display them"
   ]
  },
  {
   "cell_type": "code",
   "execution_count": 7,
   "id": "7288aaba-b48c-4f11-8d85-18719be5e1db",
   "metadata": {
    "tags": []
   },
   "outputs": [
    {
     "data": {
      "application/vnd.jupyter.widget-view+json": {
       "model_id": "d22dd7b0f8414708a3aa72798dd505c5",
       "version_major": 2,
       "version_minor": 0
      },
      "text/plain": [
       "VBox(children=(HBox(children=(Button(button_style='info', description='Read_version', icon='uncheck', style=Bu…"
      ]
     },
     "metadata": {},
     "output_type": "display_data"
    }
   ],
   "source": [
    "# 布局控件并显示  Layout widgets and display them\n",
    "output = widgets.Output()\n",
    "box_btn1 = widgets.HBox([button_Read_version, button_Read_battery, button_Read_motor])\n",
    "box_btn2 = widgets.HBox([button_Read_roll, button_Read_pitch, button_Read_yaw])\n",
    "box_display = widgets.VBox([box_btn1, box_btn2])\n",
    "display(box_display)"
   ]
  },
  {
   "cell_type": "code",
   "execution_count": 8,
   "id": "edd129c8-29bf-4fb9-a909-d8cdcb6b48f1",
   "metadata": {
    "tags": []
   },
   "outputs": [
    {
     "data": {
      "application/vnd.jupyter.widget-view+json": {
       "model_id": "296d8e5b716c4e0986ae69377a710f20",
       "version_major": 2,
       "version_minor": 0
      },
      "text/plain": [
       "Output()"
      ]
     },
     "metadata": {},
     "output_type": "display_data"
    }
   ],
   "source": [
    "display(output)"
   ]
  },
  {
   "cell_type": "code",
   "execution_count": null,
   "id": "50d65871-b430-43a7-99a1-280716f4057e",
   "metadata": {},
   "outputs": [],
   "source": []
  },
  {
   "cell_type": "code",
   "execution_count": null,
   "id": "8518f07e-a08f-4712-bb3b-cc5c1daf932c",
   "metadata": {},
   "outputs": [],
   "source": []
  },
  {
   "cell_type": "code",
   "execution_count": null,
   "id": "6c96f265-4956-4aa4-8f13-9f50934ba8d0",
   "metadata": {},
   "outputs": [],
   "source": []
  }
 ],
 "metadata": {
  "kernelspec": {
   "display_name": "Python 3 (ipykernel)",
   "language": "python",
   "name": "python3"
  },
  "language_info": {
   "codemirror_mode": {
    "name": "ipython",
    "version": 3
   },
   "file_extension": ".py",
   "mimetype": "text/x-python",
   "name": "python",
   "nbconvert_exporter": "python",
   "pygments_lexer": "ipython3",
   "version": "3.8.10"
  }
 },
 "nbformat": 4,
 "nbformat_minor": 5
}
