{
 "cells": [
  {
   "cell_type": "code",
   "execution_count": 2,
   "id": "849109ae-60b9-46ef-bc14-41b05dbee136",
   "metadata": {},
   "outputs": [],
   "source": [
    "# 导入库  import library\n",
    "import ipywidgets.widgets as widgets\n",
    "from IPython.display import display"
   ]
  },
  {
   "cell_type": "code",
   "execution_count": 3,
   "id": "bbf26a2e-7e43-43c5-a55a-644e8ee27ff2",
   "metadata": {},
   "outputs": [],
   "source": [
    "# Dogzilla drive library\n",
    "from DOGZILLALib import DOGZILLA\n",
    "g_dog = DOGZILLA()"
   ]
  },
  {
   "cell_type": "markdown",
   "id": "0150d475-f4c7-47cd-86b5-b76e653e378b",
   "metadata": {},
   "source": [
    "# 调节位姿时，机器狗四条腿足端位置不发生改变，机身的位置或角度发生变化。\n",
    "# When adjusting the posture, the position of the four legs of the robot dog does not change, and the position or Angle of the body changes."
   ]
  },
  {
   "cell_type": "code",
   "execution_count": 4,
   "id": "4ac392ce-1676-48ab-80c4-1aca98a1a4f4",
   "metadata": {},
   "outputs": [],
   "source": [
    "# 中文开关，默认为英文 Chinese switch. The default value is English\n",
    "g_ENABLE_CHINESE = False\n",
    "\n",
    "Name_widgets = {\n",
    "    'Reset': (\"Reset\", \"恢复默认\"),\n",
    "    'Translation_X': (\"Translation_X\", \"前后平移\"),\n",
    "    'Translation_Y': (\"Translation_Y\", \"左右平移\"),\n",
    "    'Translation_Z': (\"Translation_Z\", \"身高调节\"),\n",
    "    'Attitude_roll': (\"Attitude_roll\", \"滚转角\"),\n",
    "    'Attitude_pitch': (\"Attitude_pitch\", \"俯仰角\"),\n",
    "    'Attitude_yaw': (\"Attitude_yaw\", \"偏航角\")\n",
    "}"
   ]
  },
  {
   "cell_type": "code",
   "execution_count": 5,
   "id": "26d67311-3af1-489d-81a7-4f25a0aeec89",
   "metadata": {},
   "outputs": [],
   "source": [
    "# 保存滑块的上一个值，主要用于定位哪个滑竿数值改变。\n",
    "# Saves the last value of the slider, mainly to locate which slider value has changed\n",
    "g_translation_x = 0\n",
    "g_translation_y = 0\n",
    "g_translation_z = 0\n",
    "\n",
    "g_attitude_roll = 0\n",
    "g_attitude_pitch = 0\n",
    "g_attitude_yaw = 0"
   ]
  },
  {
   "cell_type": "code",
   "execution_count": 6,
   "id": "1b24afa1-4641-40fd-9c5c-16f8b6eb4f78",
   "metadata": {},
   "outputs": [],
   "source": [
    "# 恢复默认 Reset\n",
    "button_reset = widgets.Button(      \n",
    "    description=Name_widgets['Reset'][g_ENABLE_CHINESE],\n",
    "    button_style='info', # 'success', 'info', 'warning', 'danger' or ''\n",
    "    tooltip='Description',\n",
    "    icon='uncheck' )\n",
    "\n",
    "# 按键按下事件处理   Key press event processing\n",
    "def on_button_clicked(b):\n",
    "    with output:\n",
    "        print(\"Button clicked:\", b.description)\n",
    "    if b.description == Name_widgets['Reset'][g_ENABLE_CHINESE]:\n",
    "        slider_x.value = 0\n",
    "        slider_y.value = 0\n",
    "        slider_z.value = 105\n",
    "        slider_roll.value = 0\n",
    "        slider_pitch.value = 0\n",
    "        slider_yaw.value = 0\n",
    "        \n",
    "# 关联按键事件回调 Button event callbacks\n",
    "button_reset.on_click(on_button_clicked)\n"
   ]
  },
  {
   "cell_type": "markdown",
   "id": "c23cb5af-ef25-4048-99f4-3fb37de6871b",
   "metadata": {
    "tags": []
   },
   "source": [
    "## 身体位置平移  Translation of body position"
   ]
  },
  {
   "cell_type": "code",
   "execution_count": 7,
   "id": "a03b71b8-7f4a-4231-a36a-d29e4791e22a",
   "metadata": {},
   "outputs": [],
   "source": [
    "# 滑块滑动事件处理  Slider event handling\n",
    "def on_slider_translation(x, y, z):\n",
    "    global g_translation_x, g_translation_y, g_translation_z\n",
    "    print(\"   slider:\", x, y, z)\n",
    "    if g_translation_x != x:\n",
    "        g_translation_x = x\n",
    "        g_dog.translation('x', x)\n",
    "        with output:\n",
    "            print(\"Translation x:\", x)\n",
    "    if g_translation_y != y:\n",
    "        g_translation_y = y\n",
    "        g_dog.translation('y', y)\n",
    "        with output:\n",
    "            print(\"Translation y:\", y)\n",
    "    if g_translation_z != z:\n",
    "        g_translation_z = z\n",
    "        g_dog.translation('z', z)\n",
    "        with output:\n",
    "            print(\"Translation z:\", z)"
   ]
  },
  {
   "cell_type": "code",
   "execution_count": 8,
   "id": "9e54756e-4431-48d7-8d1c-347973cf7027",
   "metadata": {},
   "outputs": [],
   "source": [
    "# 创建滑块控制身体平移，slider_x控制前后，slider_y控制左右，slider_z控制身高。\n",
    "# Create sliders for body translation, slider_x for front and back, slider_y for left and right, and slider_z for height\n",
    "slider_x = widgets.IntSlider(description=Name_widgets['Translation_X'][g_ENABLE_CHINESE]+':', value=0 , min=-35,max=35,step=1, orientation='horizontal')\n",
    "slider_y = widgets.IntSlider(description=Name_widgets['Translation_Y'][g_ENABLE_CHINESE]+':', value=0 , min=-18,max=18,step=1, orientation='horizontal')\n",
    "slider_z = widgets.IntSlider(description=Name_widgets['Translation_Z'][g_ENABLE_CHINESE]+':', value=105 , min=75,max=110,step=1, orientation='horizontal')"
   ]
  },
  {
   "cell_type": "markdown",
   "id": "e44e7150-66c8-4a43-8d60-355be81da4d8",
   "metadata": {},
   "source": [
    "## 机身姿态调整  Fuselage attitude adjustment"
   ]
  },
  {
   "cell_type": "code",
   "execution_count": 9,
   "id": "5f449c08-545e-4610-95f7-80a7f57b3061",
   "metadata": {},
   "outputs": [],
   "source": [
    "# 滑块滑动事件处理  Slider event handling\n",
    "def on_slider_attitude(roll, pitch, yaw):\n",
    "    global g_attitude_roll, g_attitude_pitch, g_attitude_yaw\n",
    "    print(\"   slider:\", roll, pitch, yaw)\n",
    "    if g_attitude_roll != roll:\n",
    "        g_attitude_roll = roll\n",
    "        g_dog.attitude('r', roll)\n",
    "        with output:\n",
    "            print(\"Attitude roll:\", roll)\n",
    "    if g_attitude_pitch != pitch:\n",
    "        g_attitude_pitch = pitch\n",
    "        g_dog.attitude('p', pitch)\n",
    "        with output:\n",
    "            print(\"Attitude pitch:\", pitch)\n",
    "    if g_attitude_yaw != yaw:\n",
    "        g_attitude_yaw = yaw\n",
    "        g_dog.attitude('y', yaw)\n",
    "        with output:\n",
    "            print(\"Attitude yaw:\", yaw)"
   ]
  },
  {
   "cell_type": "code",
   "execution_count": 10,
   "id": "ad733e98-a017-4994-9b81-05383cbeae37",
   "metadata": {},
   "outputs": [],
   "source": [
    "# 创建滑块控制身体姿态，slider_roll控制翻转角，slider_pitch控制俯仰角，slider_yaw控制偏航角。\n",
    "# Create sliders to control body posture, slider_roll to control roll, slider_pitch to control pitch, and slider_yaw to control yaw.\n",
    "slider_roll = widgets.IntSlider(description=Name_widgets['Attitude_roll'][g_ENABLE_CHINESE]+':', value=0 , min=-20,max=20,step=1, orientation='horizontal')\n",
    "slider_pitch = widgets.IntSlider(description=Name_widgets['Attitude_pitch'][g_ENABLE_CHINESE]+':', value=0 , min=-15,max=15,step=1, orientation='horizontal')\n",
    "slider_yaw = widgets.IntSlider(description=Name_widgets['Attitude_yaw'][g_ENABLE_CHINESE]+':', value=0 , min=-11,max=11,step=1, orientation='horizontal')"
   ]
  },
  {
   "cell_type": "markdown",
   "id": "002c8d08-44a8-445d-a76c-2e84c67f8423",
   "metadata": {},
   "source": [
    "## 布局控件并显示  Layout widgets and display them"
   ]
  },
  {
   "cell_type": "code",
   "execution_count": 11,
   "id": "7288aaba-b48c-4f11-8d85-18719be5e1db",
   "metadata": {},
   "outputs": [
    {
     "data": {
      "application/vnd.jupyter.widget-view+json": {
       "model_id": "bbd03e8b507840fea350cbd9e45e3704",
       "version_major": 2,
       "version_minor": 0
      },
      "text/plain": [
       "VBox(children=(HBox(children=(interactive(children=(IntSlider(value=0, description='Translation_X:', max=35, m…"
      ]
     },
     "metadata": {},
     "output_type": "display_data"
    }
   ],
   "source": [
    "output = widgets.Output()\n",
    "box_slider1 = widgets.interactive(on_slider_translation, x=slider_x, y=slider_y, z=slider_z)\n",
    "box_slider2 = widgets.interactive(on_slider_attitude, roll=slider_roll, pitch=slider_pitch, yaw=slider_yaw)\n",
    "box_h = widgets.HBox([box_slider1, box_slider2, button_reset])\n",
    "box_display = widgets.VBox([box_h, output])\n",
    "display(box_display)"
   ]
  },
  {
   "cell_type": "code",
   "execution_count": null,
   "id": "cd8de172-19f9-4ef1-bb75-ad72024abb82",
   "metadata": {},
   "outputs": [],
   "source": []
  }
 ],
 "metadata": {
  "kernelspec": {
   "display_name": "Python 3 (ipykernel)",
   "language": "python",
   "name": "python3"
  },
  "language_info": {
   "codemirror_mode": {
    "name": "ipython",
    "version": 3
   },
   "file_extension": ".py",
   "mimetype": "text/x-python",
   "name": "python",
   "nbconvert_exporter": "python",
   "pygments_lexer": "ipython3",
   "version": "3.9.13"
  }
 },
 "nbformat": 4,
 "nbformat_minor": 5
}
