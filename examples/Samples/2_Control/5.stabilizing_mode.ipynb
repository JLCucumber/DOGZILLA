{
 "cells": [
  {
   "cell_type": "code",
   "execution_count": 1,
   "id": "849109ae-60b9-46ef-bc14-41b05dbee136",
   "metadata": {},
   "outputs": [],
   "source": [
    "# 导入库  import library\n",
    "import ipywidgets.widgets as widgets\n",
    "from IPython.display import display"
   ]
  },
  {
   "cell_type": "code",
   "execution_count": 2,
   "id": "bbf26a2e-7e43-43c5-a55a-644e8ee27ff2",
   "metadata": {},
   "outputs": [],
   "source": [
    "# Dogzilla drive library\n",
    "from DOGZILLALib import DOGZILLA\n",
    "g_dog = DOGZILLA()"
   ]
  },
  {
   "cell_type": "markdown",
   "id": "541d40b3-2f43-449d-8079-2dc7cff2b240",
   "metadata": {
    "tags": []
   },
   "source": [
    "# 机器狗自稳模式。自稳状态下，机器狗将自动调节姿态角以保持背部处于水平位置，不可在开启时手动设定姿态角。\n",
    "# Robot dog self-stabilization mode. In the self-stable state, the robot dog will automatically adjust the attitude Angle to keep the back in a horizontal position. It is not allowed to manually set the attitude Angle when the robot dog is turned on."
   ]
  },
  {
   "cell_type": "code",
   "execution_count": 3,
   "id": "4ac392ce-1676-48ab-80c4-1aca98a1a4f4",
   "metadata": {},
   "outputs": [],
   "source": [
    "# 中文开关，默认为英文 Chinese switch. The default value is English\n",
    "g_ENABLE_CHINESE = False\n",
    "\n",
    "Name_widgets = {\n",
    "    'Stabilizing_mode': (\"Stabilizing_mode\", \"自稳模式\"),\n",
    "    'ON':(\"ON\", \"已开启\"),\n",
    "    'OFF':(\"OFF\", \"已关闭\"),\n",
    "}"
   ]
  },
  {
   "cell_type": "code",
   "execution_count": 4,
   "id": "ca9900a3-8fe5-4acd-875d-75d731386e7a",
   "metadata": {},
   "outputs": [],
   "source": [
    "# 自稳模式  Stabilizing mode\n",
    "button_Stable = widgets.Button(  \n",
    "    value=False,  \n",
    "    description=Name_widgets['Stabilizing_mode'][g_ENABLE_CHINESE],      \n",
    "    button_style='success', # 'success', 'info', 'warning', 'danger' or ''     \n",
    "    tooltip='Description',     \n",
    "    icon='uncheck' )"
   ]
  },
  {
   "cell_type": "code",
   "execution_count": 5,
   "id": "a03b71b8-7f4a-4231-a36a-d29e4791e22a",
   "metadata": {},
   "outputs": [],
   "source": [
    "# 按键按下事件处理   Key press event processing\n",
    "def on_button_clicked(b):\n",
    "    \n",
    "    if b.description == Name_widgets['Stabilizing_mode'][g_ENABLE_CHINESE]:\n",
    "        if b.icon == 'uncheck':\n",
    "            with output:\n",
    "                print(\"Button clicked:\", b.description, Name_widgets['ON'][g_ENABLE_CHINESE])\n",
    "            b.icon = 'check'\n",
    "            g_dog.imu(1)\n",
    "        else:\n",
    "            with output:\n",
    "                print(\"Button clicked:\", b.description, Name_widgets['OFF'][g_ENABLE_CHINESE])\n",
    "            b.icon = 'uncheck'\n",
    "            g_dog.imu(0)"
   ]
  },
  {
   "cell_type": "code",
   "execution_count": 6,
   "id": "dae43019-7f03-4329-a13b-97ea27f38d83",
   "metadata": {},
   "outputs": [],
   "source": [
    "# 关联按键事件回调 Button event callbacks\n",
    "button_Stable.on_click(on_button_clicked)\n"
   ]
  },
  {
   "cell_type": "markdown",
   "id": "c237f334-5eca-4623-9342-04c02eef5ac7",
   "metadata": {},
   "source": [
    "## 布局控件并显示  Layout widgets and display them"
   ]
  },
  {
   "cell_type": "code",
   "execution_count": 7,
   "id": "7288aaba-b48c-4f11-8d85-18719be5e1db",
   "metadata": {},
   "outputs": [
    {
     "data": {
      "application/vnd.jupyter.widget-view+json": {
       "model_id": "a028534628234c308df8d003d3108ccc",
       "version_major": 2,
       "version_minor": 0
      },
      "text/plain": [
       "VBox(children=(Button(button_style='success', description='Stabilizing_mode', icon='uncheck', style=ButtonStyl…"
      ]
     },
     "metadata": {},
     "output_type": "display_data"
    }
   ],
   "source": [
    "output = widgets.Output()\n",
    "box_display = widgets.VBox([button_Stable, output])\n",
    "display(box_display)"
   ]
  },
  {
   "cell_type": "code",
   "execution_count": null,
   "id": "ea081989-6950-4631-ba78-e073c6bf1ca9",
   "metadata": {},
   "outputs": [],
   "source": []
  }
 ],
 "metadata": {
  "kernelspec": {
   "display_name": "Python 3 (ipykernel)",
   "language": "python",
   "name": "python3"
  },
  "language_info": {
   "codemirror_mode": {
    "name": "ipython",
    "version": 3
   },
   "file_extension": ".py",
   "mimetype": "text/x-python",
   "name": "python",
   "nbconvert_exporter": "python",
   "pygments_lexer": "ipython3",
   "version": "3.8.10"
  }
 },
 "nbformat": 4,
 "nbformat_minor": 5
}
