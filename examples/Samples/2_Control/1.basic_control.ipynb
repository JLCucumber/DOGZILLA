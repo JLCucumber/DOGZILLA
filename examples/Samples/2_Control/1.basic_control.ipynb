{
 "cells": [
  {
   "cell_type": "code",
   "execution_count": 1,
   "id": "849109ae-60b9-46ef-bc14-41b05dbee136",
   "metadata": {},
   "outputs": [],
   "source": [
    "# 导入库  import library\n",
    "import ipywidgets.widgets as widgets\n",
    "from IPython.display import display"
   ]
  },
  {
   "cell_type": "code",
   "execution_count": 2,
   "id": "bbf26a2e-7e43-43c5-a55a-644e8ee27ff2",
   "metadata": {},
   "outputs": [],
   "source": [
    "# Dogzilla drive library\n",
    "from DOGZILLALib import DOGZILLA\n",
    "g_dog = DOGZILLA()"
   ]
  },
  {
   "cell_type": "markdown",
   "id": "541d40b3-2f43-449d-8079-2dc7cff2b240",
   "metadata": {
    "tags": []
   },
   "source": [
    "# 控制前进后退、左右平移和左右旋转\n",
    "# Control forward and backward, left and right translation and left rotation"
   ]
  },
  {
   "cell_type": "code",
   "execution_count": 3,
   "id": "4ac392ce-1676-48ab-80c4-1aca98a1a4f4",
   "metadata": {},
   "outputs": [],
   "source": [
    "# 中文开关，默认为英文 Chinese switch. The default value is English\n",
    "g_ENABLE_CHINESE = False\n",
    "\n",
    "Name_widgets = {\n",
    "    'Stop': (\"Stop\", \"停止\"),\n",
    "    'Forward': (\"Forward\", \"前进\"),\n",
    "    'Backward': (\"Backward\", \"后退\"),\n",
    "    'Left': (\"Left\", \"左平移\"),\n",
    "    'Right': (\"Right\", \"右平移\"),\n",
    "    'TurnLeft': (\"TurnLeft\", \"向左转\"),\n",
    "    'TurnRight': (\"TurnRight\", \"向右转\")\n",
    "}"
   ]
  },
  {
   "cell_type": "code",
   "execution_count": 4,
   "id": "ca9900a3-8fe5-4acd-875d-75d731386e7a",
   "metadata": {},
   "outputs": [],
   "source": [
    "# 停止 STOP\n",
    "button_stop = widgets.Button(       \n",
    "    description=Name_widgets['Stop'][g_ENABLE_CHINESE],\n",
    "    button_style='info', # 'success', 'info', 'warning', 'danger' or ''\n",
    "    tooltip='Description',\n",
    "    icon='uncheck' )\n",
    "\n",
    "# 前进 Forward\n",
    "button_forward = widgets.Button(     \n",
    "    description=Name_widgets['Forward'][g_ENABLE_CHINESE],        \n",
    "    button_style='info', # 'success', 'info', 'warning', 'danger' or ''     \n",
    "    tooltip='Description',     \n",
    "    icon='uncheck' )\n",
    "\n",
    "# 后退 Backward\n",
    "button_backward = widgets.Button(        \n",
    "    description=Name_widgets['Backward'][g_ENABLE_CHINESE],         \n",
    "    button_style='info', # 'success', 'info', 'warning', 'danger' or ''     \n",
    "    tooltip='Description',     \n",
    "    icon='uncheck' )\n",
    "\n",
    "# 左平移 Move Left\n",
    "button_move_left = widgets.Button(        \n",
    "    description=Name_widgets['Left'][g_ENABLE_CHINESE],        \n",
    "    button_style='info', # 'success', 'info', 'warning', 'danger' or ''     \n",
    "    tooltip='Description',     \n",
    "    icon='uncheck' )\n",
    "\n",
    "# 右平移 Move Right\n",
    "button_move_right = widgets.Button(         \n",
    "    description=Name_widgets['Right'][g_ENABLE_CHINESE],        \n",
    "    button_style='info', # 'success', 'info', 'warning', 'danger' or ''     \n",
    "    tooltip='Description',     \n",
    "    icon='uncheck' )\n",
    "\n",
    "# 向左转 TurnLeft\n",
    "button_turn_left = widgets.Button(        \n",
    "    description=Name_widgets['TurnLeft'][g_ENABLE_CHINESE],        \n",
    "    button_style='info', # 'success', 'info', 'warning', 'danger' or ''     \n",
    "    tooltip='Description',     \n",
    "    icon='uncheck' )\n",
    "\n",
    "# 向右转 TurnRight\n",
    "button_turn_right = widgets.Button(        \n",
    "    description=Name_widgets['TurnRight'][g_ENABLE_CHINESE],        \n",
    "    button_style='info', # 'success', 'info', 'warning', 'danger' or ''     \n",
    "    tooltip='Description',     \n",
    "    icon='uncheck' )\n"
   ]
  },
  {
   "cell_type": "code",
   "execution_count": 5,
   "id": "a03b71b8-7f4a-4231-a36a-d29e4791e22a",
   "metadata": {},
   "outputs": [],
   "source": [
    "# 清除按键显示状态  Clear button display status\n",
    "def ALL_Uncheck():\n",
    "    button_stop.icon = 'uncheck'\n",
    "    button_forward.icon = 'uncheck'\n",
    "    button_backward.icon = 'uncheck'\n",
    "    button_move_left.icon = 'uncheck'\n",
    "    button_move_right.icon = 'uncheck'\n",
    "    button_turn_left.icon = 'uncheck'\n",
    "    button_turn_right.icon = 'uncheck'\n",
    "\n",
    "\n",
    "# 按键按下事件处理   Key press event processing\n",
    "def on_button_clicked(b):\n",
    "    ALL_Uncheck()\n",
    "    b.icon = 'check'\n",
    "    with output:\n",
    "        print(\"Button clicked:\", b.description)\n",
    "    if b.description == Name_widgets['Stop'][g_ENABLE_CHINESE]:\n",
    "        g_dog.stop()\n",
    "        b.icon = 'uncheck'\n",
    "    elif b.description == Name_widgets['Forward'][g_ENABLE_CHINESE]:\n",
    "        g_dog.stop()\n",
    "        g_dog.forward(20)\n",
    "    elif b.description == Name_widgets['Backward'][g_ENABLE_CHINESE]:\n",
    "        g_dog.stop()\n",
    "        g_dog.back(20)\n",
    "    elif b.description == Name_widgets['Left'][g_ENABLE_CHINESE]:\n",
    "        g_dog.stop()\n",
    "        g_dog.left(18)\n",
    "    elif b.description == Name_widgets['Right'][g_ENABLE_CHINESE]:\n",
    "        g_dog.stop()\n",
    "        g_dog.right(18)\n",
    "    elif b.description == Name_widgets['TurnLeft'][g_ENABLE_CHINESE]:\n",
    "        g_dog.stop()\n",
    "        g_dog.turnleft(70)\n",
    "    elif b.description == Name_widgets['TurnRight'][g_ENABLE_CHINESE]:\n",
    "        g_dog.stop()\n",
    "        g_dog.turnright(70)\n"
   ]
  },
  {
   "cell_type": "code",
   "execution_count": 6,
   "id": "dae43019-7f03-4329-a13b-97ea27f38d83",
   "metadata": {},
   "outputs": [],
   "source": [
    "# 关联按键事件回调 Button event callbacks\n",
    "button_stop.on_click(on_button_clicked)\n",
    "button_forward.on_click(on_button_clicked)\n",
    "button_backward.on_click(on_button_clicked)\n",
    "button_move_left.on_click(on_button_clicked)\n",
    "button_move_right.on_click(on_button_clicked)\n",
    "button_turn_left.on_click(on_button_clicked)\n",
    "button_turn_right.on_click(on_button_clicked)\n"
   ]
  },
  {
   "cell_type": "markdown",
   "id": "c237f334-5eca-4623-9342-04c02eef5ac7",
   "metadata": {},
   "source": [
    "## 布局控件并显示  Layout widgets and display them"
   ]
  },
  {
   "cell_type": "code",
   "execution_count": 8,
   "id": "7288aaba-b48c-4f11-8d85-18719be5e1db",
   "metadata": {},
   "outputs": [
    {
     "data": {
      "application/vnd.jupyter.widget-view+json": {
       "model_id": "bac99b5438e4432cadf974383baf66ce",
       "version_major": 2,
       "version_minor": 0
      },
      "text/plain": [
       "VBox(children=(HBox(children=(VBox(children=(Button(button_style='info', description='Forward', icon='uncheck'…"
      ]
     },
     "metadata": {},
     "output_type": "display_data"
    }
   ],
   "source": [
    "# 布局控件并显示  Layout widgets and display them\n",
    "output = widgets.Output()\n",
    "box_btn1 = widgets.VBox([button_forward, button_backward])\n",
    "box_btn2 = widgets.VBox([button_move_left, button_move_right])\n",
    "box_btn3 = widgets.VBox([button_turn_left, button_turn_right])\n",
    "box_h = widgets.HBox([box_btn1, box_btn2, box_btn3, button_stop])\n",
    "box_display = widgets.VBox([box_h, output])\n",
    "display(box_display)"
   ]
  },
  {
   "cell_type": "code",
   "execution_count": null,
   "id": "edd129c8-29bf-4fb9-a909-d8cdcb6b48f1",
   "metadata": {},
   "outputs": [],
   "source": []
  }
 ],
 "metadata": {
  "kernelspec": {
   "display_name": "Python 3 (ipykernel)",
   "language": "python",
   "name": "python3"
  },
  "language_info": {
   "codemirror_mode": {
    "name": "ipython",
    "version": 3
   },
   "file_extension": ".py",
   "mimetype": "text/x-python",
   "name": "python",
   "nbconvert_exporter": "python",
   "pygments_lexer": "ipython3",
   "version": "3.9.13"
  }
 },
 "nbformat": 4,
 "nbformat_minor": 5
}
