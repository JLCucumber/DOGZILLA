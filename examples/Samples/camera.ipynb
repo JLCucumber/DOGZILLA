{
 "cells": [
  {
   "cell_type": "markdown",
   "metadata": {},
   "source": [
    "<center><img src=\"./1_OpenCV/logo.png\" alt=\"Header\" style=\"width: 800px;\"/></center>"
   ]
  },
  {
   "cell_type": "code",
   "execution_count": null,
   "metadata": {},
   "outputs": [],
   "source": [
    "# 导入库 import library\n",
    "import cv2\n",
    "import ipywidgets.widgets as widgets\n",
    "import time\n"
   ]
  },
  {
   "cell_type": "code",
   "execution_count": null,
   "metadata": {},
   "outputs": [],
   "source": [
    "# 图像数据转化  Image data transformation\n",
    "def bgr8_to_jpeg(value, quality=75):\n",
    "    return bytes(cv2.imencode('.jpg', value)[1])"
   ]
  },
  {
   "cell_type": "code",
   "execution_count": null,
   "metadata": {},
   "outputs": [],
   "source": [
    "# 创建摄像头显示组件  Create the camera display component\n",
    "image_widget = widgets.Image(format='jpeg', width=640, height=480)  \n",
    "\n",
    "\n",
    "# 打开摄像头，数字0需根据/dev/videoX修改为X\n",
    "# Turn on the camera, you need to change the number 0 to X based on /dev/videoX\n",
    "image = cv2.VideoCapture(0)\n",
    "\n",
    "image.set(3, 640) #设置图像宽度  Set the image width     \n",
    "image.set(4, 480) #设置图像高度  Set image height\n",
    "image.set(5, 30)  #设置帧率  Set the frame rate\n",
    "image.set(cv2.CAP_PROP_FOURCC, cv2.VideoWriter.fourcc('M', 'J', 'P', 'G'))\n",
    "image.set(cv2.CAP_PROP_BRIGHTNESS, 40) #设置亮度 Set the brightness\n",
    "image.set(cv2.CAP_PROP_CONTRAST, 50)   #设置对比度 Set contrast\n",
    "image.set(cv2.CAP_PROP_EXPOSURE, 156)  #设置曝光值 Set exposure value\n"
   ]
  },
  {
   "cell_type": "code",
   "execution_count": null,
   "metadata": {},
   "outputs": [],
   "source": [
    "try:\n",
    "    #显示摄像头组件 Display Camera Components\n",
    "    display(image_widget)\n",
    "    t_start = time.time()\n",
    "    fps = 0\n",
    "    while True:\n",
    "        #读取摄像头数据 Reading Camera Data\n",
    "        ret, frame = image.read()\n",
    "        fps = fps + 1\n",
    "        mfps = fps / (time.time() - t_start)\n",
    "        cv2.putText(frame, \"FPS: \" + str(int(mfps)), (40,40), cv2.FONT_HERSHEY_SIMPLEX, 0.8, (0,255,255), 3)\n",
    "        # 刷新摄像头组件画面 Refresh the camera component screen\n",
    "        image_widget.value = bgr8_to_jpeg(frame)\n",
    "except:\n",
    "    # 使用完成对象记住释放掉对象，不然下一个程序使用这个对象模块会被占用，导致无法使用\n",
    "    # Use completion objects Remember to release the object, otherwise the next program that uses the object module will be occupied, resulting in unusable\n",
    "    image.release()"
   ]
  },
  {
   "cell_type": "code",
   "execution_count": null,
   "metadata": {},
   "outputs": [],
   "source": []
  },
  {
   "cell_type": "code",
   "execution_count": null,
   "metadata": {},
   "outputs": [],
   "source": []
  }
 ],
 "metadata": {
  "kernelspec": {
   "display_name": "Python 3 (ipykernel)",
   "language": "python",
   "name": "python3"
  },
  "language_info": {
   "codemirror_mode": {
    "name": "ipython",
    "version": 3
   },
   "file_extension": ".py",
   "mimetype": "text/x-python",
   "name": "python",
   "nbconvert_exporter": "python",
   "pygments_lexer": "ipython3",
   "version": "3.8.10"
  }
 },
 "nbformat": 4,
 "nbformat_minor": 4
}
