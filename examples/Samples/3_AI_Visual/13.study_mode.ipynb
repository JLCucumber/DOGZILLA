{
 "cells": [
  {
   "cell_type": "markdown",
   "metadata": {},
   "source": [
    "<center><img src=\"logo.png\" alt=\"Header\" style=\"width: 800px;\"/></center>"
   ]
  },
  {
   "cell_type": "code",
   "execution_count": null,
   "metadata": {},
   "outputs": [],
   "source": [
    "# 导入库  import library\n",
    "import cv2\n",
    "import ipywidgets.widgets as widgets\n",
    "from IPython.display import display\n",
    "import time\n",
    "import threading\n",
    "import inspect\n",
    "import ctypes\n",
    "import numpy as np\n",
    "import os"
   ]
  },
  {
   "cell_type": "code",
   "execution_count": null,
   "metadata": {},
   "outputs": [],
   "source": [
    "# Dogzilla drive library\n",
    "from DOGZILLALib import DOGZILLA\n",
    "g_dog = DOGZILLA()"
   ]
  },
  {
   "cell_type": "markdown",
   "metadata": {},
   "source": [
    "# 动作学习功能，记录动作并运行。\n",
    "# Action learning function, record the action and run"
   ]
  },
  {
   "cell_type": "code",
   "execution_count": null,
   "metadata": {},
   "outputs": [],
   "source": [
    "# 中文开关，默认为英文 Chinese switch. The default value is English\n",
    "g_ENABLE_CHINESE = False\n",
    "\n",
    "Name_widgets = {\n",
    "    'Stop_Study': (\"Stop_Study\", \"停止学习\"),\n",
    "    'Start_Study': (\"Start_Study\", \"开始学习\"),\n",
    "    'Study_Action': (\"Study_Action\", \"记录动作\"),\n",
    "    'Clear_Action': (\"Clear_Action\", \"清空动作组\"),\n",
    "    'Play_Action': (\"Play_Action\", \"运行动作组\")\n",
    "}"
   ]
  },
  {
   "cell_type": "code",
   "execution_count": null,
   "metadata": {},
   "outputs": [],
   "source": [
    "PATH_ACTION = \"/home/pi/DOGZILLA/Samples/3_AI_Visual/Action_Data.txt\""
   ]
  },
  {
   "cell_type": "code",
   "execution_count": null,
   "metadata": {},
   "outputs": [],
   "source": [
    "# 恢复默认姿态，并且把机器狗坐着摆放\n",
    "# Restore the default position and place the robot dog in a sitting position\n",
    "g_dog.reset()"
   ]
  },
  {
   "cell_type": "code",
   "execution_count": null,
   "metadata": {},
   "outputs": [],
   "source": [
    "# 写入动作  Write action\n",
    "def write_action(wf_path, value):\n",
    "    if len(value) != 6:\n",
    "        return\n",
    "    with open(wf_path, \"a\") as wf:\n",
    "        wf_str = str(value[0]) + ', ' + str(value[1]) + ', ' + \\\n",
    "            str(value[2]) + ', ' + str(value[3]) + ', ' + \\\n",
    "            str(value[4]) + ', ' + str(value[5])  + '\\n'\n",
    "        wf.write(wf_str)\n",
    "        wf.flush()\n",
    "\n",
    "# 读取所有动作 Read all actions\n",
    "def read_all_action():\n",
    "    rf = open(PATH_ACTION, \"r+\")\n",
    "    lines = rf.readlines()\n",
    "    group = ()\n",
    "    for line in lines:\n",
    "        if len(line) != 0:\n",
    "            list = line.split(',')\n",
    "            if len(list) == 6:\n",
    "                action = ([int(list[0]), int(list[1]), int(list[2]),\n",
    "                       int(list[3]), int(list[4]), int(list[5])], )\n",
    "                group = group + action\n",
    "    rf.flush()\n",
    "    return group\n",
    "\n",
    "# 清除动作，删除PATH_ACTION文件  Clear ACTION to delete the PATH_ACTION file\n",
    "def clear_action():\n",
    "    os.system('rm ' + PATH_ACTION)"
   ]
  },
  {
   "cell_type": "code",
   "execution_count": null,
   "metadata": {},
   "outputs": [],
   "source": [
    "# 开始学习动作，卸载两个前腿舵机\n",
    "# Start learning the moves, unloading both front leg steering gear\n",
    "def start_study():\n",
    "    g_dog.unload_motor(1)\n",
    "    time.sleep(.1)\n",
    "    g_dog.unload_motor(2)\n",
    "\n",
    "# 学习动作，记录并保存当前动作到文件里\n",
    "# Learn the action, record and save the current action to a file\n",
    "def study_action():\n",
    "    read_angle = g_dog.read_motor(True)\n",
    "    leg_angle = [0, 0, 0, 0, 0, 0]\n",
    "    for i in range(6):\n",
    "        leg_angle[i] = read_angle[i]\n",
    "    write_action(PATH_ACTION, leg_angle)\n",
    "\n",
    "# 停止学习动作  Stop learning the action\n",
    "def stop_study():\n",
    "    g_dog.load_motor(1)\n",
    "    time.sleep(.1)\n",
    "    g_dog.load_motor(2)\n",
    "\n",
    "# 运行动作组  Operation action group\n",
    "def play_action():\n",
    "    group = read_all_action()\n",
    "    len_group = len(group)\n",
    "    print(\"group:\", len_group, group)\n",
    "    motor_id = [11, 12, 13, 21, 22, 23]\n",
    "    g_dog.motor_speed(50)\n",
    "    index = 0\n",
    "    for action in group:\n",
    "        g_dog.motor(motor_id, action)\n",
    "        \n",
    "        if index == 4 or index == 3:\n",
    "            time.sleep(.5)\n",
    "        else:\n",
    "            time.sleep(1.2)\n",
    "        index = index + 1"
   ]
  },
  {
   "cell_type": "code",
   "execution_count": null,
   "metadata": {},
   "outputs": [],
   "source": [
    "# 停止学习 Stop_Study\n",
    "button_Stop_Study = widgets.Button(         \n",
    "    description=Name_widgets['Stop_Study'][g_ENABLE_CHINESE],        \n",
    "    button_style='info', # 'success', 'info', 'warning', 'danger' or ''     \n",
    "    tooltip='Description',     \n",
    "    icon='uncheck' )\n",
    "\n",
    "# 开始学习 Start_Study\n",
    "button_Start_Study = widgets.Button(       \n",
    "    description=Name_widgets['Start_Study'][g_ENABLE_CHINESE],\n",
    "    button_style='info', # 'success', 'info', 'warning', 'danger' or ''\n",
    "    tooltip='Description',\n",
    "    icon='uncheck' )\n",
    "\n",
    "# 记录动作 Study_Action\n",
    "button_Study_Action = widgets.Button(     \n",
    "    description=Name_widgets['Study_Action'][g_ENABLE_CHINESE],        \n",
    "    button_style='info', # 'success', 'info', 'warning', 'danger' or ''     \n",
    "    tooltip='Description',     \n",
    "    icon='uncheck' )\n",
    "\n",
    "# 清空动作组 Clear_Action\n",
    "button_Clear_Action = widgets.Button(        \n",
    "    description=Name_widgets['Clear_Action'][g_ENABLE_CHINESE],         \n",
    "    button_style='danger', # 'success', 'info', 'warning', 'danger' or ''     \n",
    "    tooltip='Description',     \n",
    "    icon='uncheck' )\n",
    "\n",
    "# 运行动作组 Play_Action\n",
    "button_Play_Action = widgets.Button(        \n",
    "    description=Name_widgets['Play_Action'][g_ENABLE_CHINESE],        \n",
    "    button_style='success', # 'success', 'info', 'warning', 'danger' or ''     \n",
    "    tooltip='Description',     \n",
    "    icon='uncheck' )"
   ]
  },
  {
   "cell_type": "code",
   "execution_count": null,
   "metadata": {},
   "outputs": [],
   "source": [
    "# 按键按下事件处理   Key press event processing\n",
    "def on_button_clicked(b):\n",
    "    with output:\n",
    "        print(\"Button clicked:\", b.description)\n",
    "    if b.description == Name_widgets['Stop_Study'][g_ENABLE_CHINESE]:\n",
    "        stop_study()\n",
    "    elif b.description == Name_widgets['Start_Study'][g_ENABLE_CHINESE]:\n",
    "        start_study()\n",
    "    elif b.description == Name_widgets['Study_Action'][g_ENABLE_CHINESE]:\n",
    "        study_action()\n",
    "    elif b.description == Name_widgets['Clear_Action'][g_ENABLE_CHINESE]:\n",
    "        clear_action()\n",
    "    elif b.description == Name_widgets['Play_Action'][g_ENABLE_CHINESE]:\n",
    "        play_action()"
   ]
  },
  {
   "cell_type": "code",
   "execution_count": null,
   "metadata": {},
   "outputs": [],
   "source": [
    "# 关联按键事件回调 Button event callbacks\n",
    "button_Stop_Study.on_click(on_button_clicked)\n",
    "button_Start_Study.on_click(on_button_clicked)\n",
    "button_Study_Action.on_click(on_button_clicked)\n",
    "button_Clear_Action.on_click(on_button_clicked)\n",
    "button_Play_Action.on_click(on_button_clicked)"
   ]
  },
  {
   "cell_type": "markdown",
   "metadata": {},
   "source": [
    "## 布局控件并显示  Layout widgets and display them"
   ]
  },
  {
   "cell_type": "code",
   "execution_count": null,
   "metadata": {},
   "outputs": [],
   "source": [
    "output = widgets.Output()\n",
    "box_btn_1 = widgets.HBox([button_Start_Study, button_Study_Action, button_Stop_Study])\n",
    "box_btn_2 = widgets.HBox([button_Clear_Action, button_Play_Action])\n",
    "box_display = widgets.VBox([box_btn_1, box_btn_2, output])\n",
    "display(box_display)"
   ]
  }
 ],
 "metadata": {
  "kernelspec": {
   "display_name": "Python 3 (ipykernel)",
   "language": "python",
   "name": "python3"
  },
  "language_info": {
   "codemirror_mode": {
    "name": "ipython",
    "version": 3
   },
   "file_extension": ".py",
   "mimetype": "text/x-python",
   "name": "python",
   "nbconvert_exporter": "python",
   "pygments_lexer": "ipython3",
   "version": "3.8.10"
  },
  "vscode": {
   "interpreter": {
    "hash": "81794d4967e6c3204c66dcd87b604927b115b27c00565d3d43f05ba2f3a2cb0d"
   }
  }
 },
 "nbformat": 4,
 "nbformat_minor": 4
}
