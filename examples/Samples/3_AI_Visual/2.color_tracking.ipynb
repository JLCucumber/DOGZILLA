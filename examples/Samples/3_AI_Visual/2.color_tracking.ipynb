{
 "cells": [
  {
   "cell_type": "markdown",
   "metadata": {},
   "source": [
    "<center><img src=\"logo.png\" alt=\"Header\" style=\"width: 800px;\"/></center>"
   ]
  },
  {
   "cell_type": "code",
   "execution_count": 1,
   "metadata": {},
   "outputs": [],
   "source": [
    "# 导入库  import library\n",
    "import cv2\n",
    "import ipywidgets.widgets as widgets\n",
    "from IPython.display import display\n",
    "import time\n",
    "import threading\n",
    "import inspect\n",
    "import ctypes\n",
    "import numpy as np\n"
   ]
  },
  {
   "cell_type": "code",
   "execution_count": 2,
   "metadata": {},
   "outputs": [],
   "source": [
    "# Dogzilla drive library\n",
    "from DOGZILLALib import DOGZILLA\n",
    "g_dog = DOGZILLA()"
   ]
  },
  {
   "cell_type": "markdown",
   "metadata": {},
   "source": [
    "# 颜色追踪  Color tracking"
   ]
  },
  {
   "cell_type": "code",
   "execution_count": 3,
   "metadata": {},
   "outputs": [],
   "source": [
    "# 中文开关，默认为英文 Chinese switch. The default value is English\n",
    "g_ENABLE_CHINESE = False\n",
    "\n",
    "Name_widgets = {\n",
    "    'Close': (\"Close\", \"关闭\"),\n",
    "    'Red': (\"Red\", \"红色\"),\n",
    "    'Green': (\"Green\", \"绿色\"),\n",
    "    'Blue': (\"Blue\", \"蓝色\"),\n",
    "    'Yellow': (\"Yellow\", \"黄色\"),\n",
    "    'Close_Camera': (\"Close_Camera\", \"关闭摄像头\")\n",
    "}"
   ]
  },
  {
   "cell_type": "code",
   "execution_count": 4,
   "metadata": {},
   "outputs": [],
   "source": [
    "# 图像数据转化  Image data transformation\n",
    "def bgr8_to_jpeg(value, quality=75):\n",
    "    return bytes(cv2.imencode('.jpg', value)[1])"
   ]
  },
  {
   "cell_type": "code",
   "execution_count": 5,
   "metadata": {},
   "outputs": [],
   "source": [
    "# 关闭线程  stop thread\n",
    "def _async_raise(tid, exctype):\n",
    "    \"\"\"raises the exception, performs cleanup if needed\"\"\"\n",
    "    tid = ctypes.c_long(tid)\n",
    "    if not inspect.isclass(exctype):\n",
    "        exctype = type(exctype)\n",
    "    res = ctypes.pythonapi.PyThreadState_SetAsyncExc(tid, ctypes.py_object(exctype))\n",
    "    if res == 0:\n",
    "        raise ValueError(\"invalid thread id\")\n",
    "    elif res != 1:\n",
    "        # \"\"\"if it returns a number greater than one, you're in trouble,\n",
    "        # and you should call it again with exc=NULL to revert the effect\"\"\"\n",
    "        ctypes.pythonapi.PyThreadState_SetAsyncExc(tid, None)\n",
    "        \n",
    "def stop_thread(thread):\n",
    "    _async_raise(thread.ident, SystemExit)"
   ]
  },
  {
   "cell_type": "code",
   "execution_count": 6,
   "metadata": {},
   "outputs": [
    {
     "data": {
      "text/plain": [
       "True"
      ]
     },
     "execution_count": 6,
     "metadata": {},
     "output_type": "execute_result"
    }
   ],
   "source": [
    "# 创建摄像头显示组件  Create the camera display component\n",
    "image_widget = widgets.Image(format='jpeg', width=640, height=480)  \n",
    "\n",
    "# 打开摄像头，数字0需根据/dev/videoX修改为X\n",
    "# Turn on the camera, you need to change the number 0 to X based on /dev/videoX\n",
    "image = cv2.VideoCapture(0)\n",
    "image.set(3, 640)\n",
    "image.set(4, 480)\n",
    "image.set(5, 30)\n",
    "image.set(cv2.CAP_PROP_FOURCC, cv2.VideoWriter.fourcc('M', 'J', 'P', 'G'))"
   ]
  },
  {
   "cell_type": "code",
   "execution_count": 7,
   "metadata": {},
   "outputs": [],
   "source": [
    "# 关闭摄像头 Close_Camera\n",
    "button_Close_Camera = widgets.Button(  \n",
    "    value=False,  \n",
    "    description=Name_widgets['Close_Camera'][g_ENABLE_CHINESE],      \n",
    "    button_style='danger', # 'success', 'info', 'warning', 'danger' or ''     \n",
    "    tooltip='Description',     \n",
    "    icon='uncheck' )\n",
    "\n",
    "\n",
    "# 按键按下事件处理   Key press event processing\n",
    "def on_button_close_camera(b):\n",
    "    if b.description == Name_widgets['Close_Camera'][g_ENABLE_CHINESE]:\n",
    "        # 停止线程，释放摄像头  Stop the thread and release the camera\n",
    "        b.icon = 'uncheck'\n",
    "        stop_thread(thread1)\n",
    "        image.release()\n",
    "    \n",
    "# 关联按键事件回调 Button event callbacks\n",
    "button_Close_Camera.on_click(on_button_close_camera)"
   ]
  },
  {
   "cell_type": "code",
   "execution_count": 8,
   "metadata": {},
   "outputs": [],
   "source": [
    "# 创建存储HSV色域颜色分类数据的数组  Creates an array that stores the HSV gamut color classification data\n",
    "color_lower = np.array([156, 43, 46])\n",
    "color_upper = np.array([180, 255, 255])\n",
    "g_mode = 0"
   ]
  },
  {
   "cell_type": "code",
   "execution_count": 9,
   "metadata": {},
   "outputs": [],
   "source": [
    "# 颜色选择按钮配置  Color selection button configuration\n",
    "# 关闭 Close\n",
    "Closebutton = widgets.Button(         \n",
    "    description=Name_widgets['Close'][g_ENABLE_CHINESE],        \n",
    "    button_style='info', # 'success', 'info', 'warning', 'danger' or ''     \n",
    "    tooltip='Description',     \n",
    "    icon='uncheck' )\n",
    "\n",
    "# 红色 Red\n",
    "Redbutton = widgets.Button(       \n",
    "    description=Name_widgets['Red'][g_ENABLE_CHINESE],\n",
    "    button_style='info', # 'success', 'info', 'warning', 'danger' or ''\n",
    "    tooltip='Description',\n",
    "    icon='uncheck' )\n",
    "\n",
    "# 绿色 Green\n",
    "Greenbutton = widgets.Button(     \n",
    "    description=Name_widgets['Green'][g_ENABLE_CHINESE],        \n",
    "    button_style='info', # 'success', 'info', 'warning', 'danger' or ''     \n",
    "    tooltip='Description',     \n",
    "    icon='uncheck' )\n",
    "\n",
    "# 蓝色 Blue\n",
    "Bluebutton = widgets.Button(        \n",
    "    description=Name_widgets['Blue'][g_ENABLE_CHINESE],         \n",
    "    button_style='info', # 'success', 'info', 'warning', 'danger' or ''     \n",
    "    tooltip='Description',     \n",
    "    icon='uncheck' )\n",
    "\n",
    "# 黄色 Yellow\n",
    "Yellowbutton = widgets.Button(        \n",
    "    description=Name_widgets['Yellow'][g_ENABLE_CHINESE],        \n",
    "    button_style='info', # 'success', 'info', 'warning', 'danger' or ''     \n",
    "    tooltip='Description',     \n",
    "    icon='uncheck' )"
   ]
  },
  {
   "cell_type": "code",
   "execution_count": 10,
   "metadata": {},
   "outputs": [],
   "source": [
    "# 清除按键显示状态  Clear button display status\n",
    "def ALL_Uncheck():\n",
    "    Redbutton.icon = 'uncheck'\n",
    "    Greenbutton.icon = 'uncheck'\n",
    "    Bluebutton.icon = 'uncheck'\n",
    "    Yellowbutton.icon = 'uncheck'\n",
    "\n",
    "# 按键按下事件处理   Key press event processing\n",
    "def on_button_clicked(b):\n",
    "    global color_lower, color_upper, g_mode\n",
    "    global g_action\n",
    "    ALL_Uncheck()\n",
    "    b.icon = 'check'\n",
    "    with output:\n",
    "        print(\"Button clicked:\", b.description)\n",
    "    if b.description == Name_widgets['Close'][g_ENABLE_CHINESE]:\n",
    "        g_dog.action(0xff)\n",
    "        g_mode = 0\n",
    "        b.icon = 'uncheck'\n",
    "    elif b.description == Name_widgets['Red'][g_ENABLE_CHINESE]:\n",
    "        color_lower = np.array([0, 43, 46])\n",
    "        color_upper = np.array([10, 255, 255])\n",
    "        g_dog.action(0xff)\n",
    "        g_mode = 1\n",
    "    elif b.description == Name_widgets['Green'][g_ENABLE_CHINESE]:\n",
    "        color_lower = np.array([35, 43, 46])\n",
    "        color_upper = np.array([77, 255, 255])\n",
    "        g_dog.action(0xff)\n",
    "        g_mode = 1\n",
    "    elif b.description == Name_widgets['Blue'][g_ENABLE_CHINESE]:\n",
    "        color_lower=np.array([100, 43, 46])\n",
    "        color_upper = np.array([124, 255, 255])\n",
    "        g_dog.action(0xff)\n",
    "        g_mode = 1\n",
    "    elif b.description == Name_widgets['Yellow'][g_ENABLE_CHINESE]:\n",
    "        color_lower = np.array([26, 43, 46])\n",
    "        color_upper = np.array([34, 255, 255])\n",
    "        g_dog.action(0xff)\n",
    "        g_mode = 1\n"
   ]
  },
  {
   "cell_type": "code",
   "execution_count": 11,
   "metadata": {},
   "outputs": [],
   "source": [
    "# 关联按键事件回调 Button event callbacks\n",
    "Redbutton.on_click(on_button_clicked)\n",
    "Greenbutton.on_click(on_button_clicked)\n",
    "Bluebutton.on_click(on_button_clicked)\n",
    "Yellowbutton.on_click(on_button_clicked)\n",
    "Closebutton.on_click(on_button_clicked)"
   ]
  },
  {
   "cell_type": "code",
   "execution_count": 12,
   "metadata": {},
   "outputs": [],
   "source": [
    "# 颜色追踪任务  Color tracking task\n",
    "def Color_Tracking_Task():\n",
    "    global color_lower, color_upper, g_mode\n",
    "    t_start = time.time()\n",
    "    fps = 0\n",
    "    color_x = 0\n",
    "    color_y = 0\n",
    "    color_radius = 0\n",
    "    while True:\n",
    "        ret, frame = image.read()\n",
    "        frame_ = cv2.GaussianBlur(frame,(5,5),0)                    \n",
    "        hsv = cv2.cvtColor(frame,cv2.COLOR_BGR2HSV)\n",
    "        mask = cv2.inRange(hsv,color_lower,color_upper)  \n",
    "        mask = cv2.erode(mask,None,iterations=2)\n",
    "        mask = cv2.dilate(mask,None,iterations=2)\n",
    "        mask = cv2.GaussianBlur(mask,(3,3),0)     \n",
    "        cnts = cv2.findContours(mask.copy(),cv2.RETR_EXTERNAL,cv2.CHAIN_APPROX_SIMPLE)[-2] \n",
    "        if g_mode == 1: # 按钮切换开关  button switch\n",
    "            if len(cnts) > 0:\n",
    "                cnt = max (cnts, key = cv2.contourArea)\n",
    "                (color_x,color_y),color_radius = cv2.minEnclosingCircle(cnt)\n",
    "                if color_radius > 10:\n",
    "                    # 将检测到的颜色标记出来  Mark the detected color\n",
    "                    cv2.circle(frame,(int(color_x),int(color_y)),int(color_radius),(255,0,255),2)  \n",
    "                    value_x = color_x - 320\n",
    "                    value_y = color_y - 240\n",
    "                    if value_x > 110:\n",
    "                        value_x = 110\n",
    "                    elif value_x < -110:\n",
    "                        value_x = -110\n",
    "                    if value_y > 150:\n",
    "                        value_y = 150\n",
    "                    elif value_y < -150:\n",
    "                        value_y = -150\n",
    "                    g_dog.attitude(['y','p'],[-value_x/10, value_y/10])\n",
    "            else:\n",
    "                color_x = 0\n",
    "                color_y = 0\n",
    "            cv2.putText(frame, \"X:%d, Y%d\" % (int(color_x), int(color_y)), (40,40), cv2.FONT_HERSHEY_SIMPLEX, 0.8, (0,255,255), 3)\n",
    "            t_start = time.time()\n",
    "            fps = 0\n",
    "        else:\n",
    "            fps = fps + 1\n",
    "            mfps = fps / (time.time() - t_start)\n",
    "            cv2.putText(frame, \"FPS \" + str(int(mfps)), (40,40), cv2.FONT_HERSHEY_SIMPLEX, 0.8, (0,255,255), 3)\n",
    "        # 实时传回图像数据进行显示\n",
    "        image_widget.value = bgr8_to_jpeg(frame)\n",
    "\n"
   ]
  },
  {
   "cell_type": "code",
   "execution_count": 13,
   "metadata": {},
   "outputs": [],
   "source": [
    "# 机器狗恢复默认姿态  DOGZILLA reverts to default\n",
    "g_dog.reset()"
   ]
  },
  {
   "cell_type": "code",
   "execution_count": 14,
   "metadata": {
    "tags": []
   },
   "outputs": [
    {
     "data": {
      "application/vnd.jupyter.widget-view+json": {
       "model_id": "df94204b5a0446afbf9a916d07d82bd9",
       "version_major": 2,
       "version_minor": 0
      },
      "text/plain": [
       "HBox(children=(Image(value=b'', format='jpeg', height='480', width='640'), VBox(children=(Button(button_style=…"
      ]
     },
     "metadata": {},
     "output_type": "display_data"
    }
   ],
   "source": [
    "# 启动摄像头显示任务  Start the camera display task\n",
    "thread1 = threading.Thread(target=Color_Tracking_Task)\n",
    "thread1.setDaemon(True)\n",
    "thread1.start()\n",
    "\n",
    "output = widgets.Output()\n",
    "box_btn = widgets.VBox([Redbutton, Greenbutton, Bluebutton, Yellowbutton, Closebutton, button_Close_Camera])\n",
    "box_display = widgets.HBox([image_widget, box_btn, output])\n",
    "display(box_display)"
   ]
  },
  {
   "cell_type": "code",
   "execution_count": null,
   "metadata": {},
   "outputs": [],
   "source": []
  }
 ],
 "metadata": {
  "kernelspec": {
   "display_name": "Python 3 (ipykernel)",
   "language": "python",
   "name": "python3"
  },
  "language_info": {
   "codemirror_mode": {
    "name": "ipython",
    "version": 3
   },
   "file_extension": ".py",
   "mimetype": "text/x-python",
   "name": "python",
   "nbconvert_exporter": "python",
   "pygments_lexer": "ipython3",
   "version": "3.8.10"
  }
 },
 "nbformat": 4,
 "nbformat_minor": 4
}
