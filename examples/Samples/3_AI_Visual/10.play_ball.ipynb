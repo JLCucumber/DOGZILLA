{
 "cells": [
  {
   "cell_type": "markdown",
   "metadata": {},
   "source": [
    "<center><img src=\"logo.png\" alt=\"Header\" style=\"width: 800px;\"/></center>"
   ]
  },
  {
   "cell_type": "markdown",
   "metadata": {},
   "source": [
    "# 导入库并显示摄像头显示组件"
   ]
  },
  {
   "cell_type": "code",
   "execution_count": null,
   "metadata": {},
   "outputs": [],
   "source": [
    "# 导入库  import library\n",
    "import cv2\n",
    "import ipywidgets.widgets as widgets\n",
    "from IPython.display import display\n",
    "import time\n",
    "import threading\n",
    "import inspect\n",
    "import ctypes\n",
    "import numpy as np"
   ]
  },
  {
   "cell_type": "code",
   "execution_count": null,
   "metadata": {},
   "outputs": [],
   "source": [
    "# Dogzilla drive library\n",
    "from DOGZILLALib import DOGZILLA\n",
    "g_dog = DOGZILLA()"
   ]
  },
  {
   "cell_type": "markdown",
   "metadata": {},
   "source": [
    "# 踢球运动  Playing ball"
   ]
  },
  {
   "cell_type": "code",
   "execution_count": null,
   "metadata": {},
   "outputs": [],
   "source": [
    "# 中文开关，默认为英文 Chinese switch. The default value is English\n",
    "g_ENABLE_CHINESE = False\n",
    "\n",
    "Name_widgets = {\n",
    "    'Stop': (\"Stop\", \"停止\"),\n",
    "    'Play_Ball': (\"Play_Ball\", \"踢球\"),\n",
    "    'Close_Camera': (\"Close_Camera\", \"关闭摄像头\")\n",
    "}"
   ]
  },
  {
   "cell_type": "code",
   "execution_count": null,
   "metadata": {},
   "outputs": [],
   "source": [
    "# 图像数据转化  Image data transformation\n",
    "def bgr8_to_jpeg(value, quality=75):\n",
    "    return bytes(cv2.imencode('.jpg', value)[1])"
   ]
  },
  {
   "cell_type": "code",
   "execution_count": null,
   "metadata": {},
   "outputs": [],
   "source": [
    "# 关闭线程  stop thread\n",
    "def _async_raise(tid, exctype):\n",
    "    \"\"\"raises the exception, performs cleanup if needed\"\"\"\n",
    "    tid = ctypes.c_long(tid)\n",
    "    if not inspect.isclass(exctype):\n",
    "        exctype = type(exctype)\n",
    "    res = ctypes.pythonapi.PyThreadState_SetAsyncExc(tid, ctypes.py_object(exctype))\n",
    "    if res == 0:\n",
    "        raise ValueError(\"invalid thread id\")\n",
    "    elif res != 1:\n",
    "        # \"\"\"if it returns a number greater than one, you're in trouble,\n",
    "        # and you should call it again with exc=NULL to revert the effect\"\"\"\n",
    "        ctypes.pythonapi.PyThreadState_SetAsyncExc(tid, None)\n",
    "        \n",
    "def stop_thread(thread):\n",
    "    _async_raise(thread.ident, SystemExit)"
   ]
  },
  {
   "cell_type": "code",
   "execution_count": null,
   "metadata": {},
   "outputs": [],
   "source": [
    "# 创建摄像头显示组件  Create the camera display component\n",
    "image_widget = widgets.Image(format='jpeg', width=640, height=480)\n",
    "\n",
    "# 打开摄像头，数字0需根据/dev/videoX修改为X\n",
    "# Turn on the camera, you need to change the number 0 to X based on /dev/videoX\n",
    "image = cv2.VideoCapture(0)\n",
    "image.set(3, 640)\n",
    "image.set(4, 480)\n",
    "image.set(5, 30)\n",
    "image.set(cv2.CAP_PROP_FOURCC, cv2.VideoWriter.fourcc('M', 'J', 'P', 'G'))"
   ]
  },
  {
   "cell_type": "code",
   "execution_count": null,
   "metadata": {},
   "outputs": [],
   "source": [
    "# 关闭摄像头 Close_Camera\n",
    "button_Close_Camera = widgets.Button(  \n",
    "    value=False,  \n",
    "    description=Name_widgets['Close_Camera'][g_ENABLE_CHINESE],      \n",
    "    button_style='danger', # 'success', 'info', 'warning', 'danger' or ''     \n",
    "    tooltip='Description',     \n",
    "    icon='uncheck' )\n",
    "\n",
    "\n",
    "# 按键按下事件处理   Key press event processing\n",
    "def on_button_close_camera(b):\n",
    "    if b.description == Name_widgets['Close_Camera'][g_ENABLE_CHINESE]:\n",
    "        # 停止线程，释放摄像头  Stop the thread and release the camera\n",
    "        b.icon = 'uncheck'\n",
    "        stop_thread(thread1)\n",
    "        image.release()\n",
    "    \n",
    "# 关联按键事件回调 Button event callbacks\n",
    "button_Close_Camera.on_click(on_button_close_camera)"
   ]
  },
  {
   "cell_type": "code",
   "execution_count": null,
   "metadata": {},
   "outputs": [],
   "source": [
    "motor_id = [11, 12, 13, 21, 22, 23, 31, 32, 33, 41, 42, 43]\n",
    "angle_down=[-16, 66, 1, -17, 66, 1, -14, 74, 1, -14, 72, 1]\n",
    "\n",
    "motor_2 = [21, 22, 23]\n",
    "angle_hand = [-15, 51, 2, -13, 33, -1, -15, 64, 3, -19, 59, 0]\n",
    "angle_play_2 = [10, 0, 0]\n",
    "play_state = 0\n",
    "\n",
    "# 执行踢球动作  Execute the kick\n",
    "def play_ball_task():\n",
    "    global play_state\n",
    "    if play_state:\n",
    "        g_dog.motor_speed(100)\n",
    "        g_dog.motor(motor_id, angle_down)\n",
    "        time.sleep(.3)\n",
    "    if play_state:\n",
    "        g_dog.motor(motor_id, angle_hand)\n",
    "        time.sleep(.2)\n",
    "    if play_state:\n",
    "        g_dog.motor_speed(255)\n",
    "        time.sleep(.01)\n",
    "    if play_state:\n",
    "        g_dog.motor(motor_2, angle_play_2)\n",
    "        time.sleep(.3)\n",
    "    if play_state:\n",
    "        g_dog.motor(motor_id, angle_hand)\n",
    "        time.sleep(.3)\n",
    "    if play_state:\n",
    "        g_dog.motor_speed(100)\n",
    "        g_dog.motor(motor_id, angle_down)\n",
    "        time.sleep(.3)\n",
    "    if play_state:\n",
    "        g_dog.action(0xff)\n",
    "        play_state = 0\n"
   ]
  },
  {
   "cell_type": "code",
   "execution_count": null,
   "metadata": {},
   "outputs": [],
   "source": [
    "# 停止 Stop\n",
    "button_Stop = widgets.Button(        \n",
    "    description=Name_widgets['Stop'][g_ENABLE_CHINESE],        \n",
    "    button_style='info', # 'success', 'info', 'warning', 'danger' or ''     \n",
    "    tooltip='Description',     \n",
    "    icon='uncheck' )\n",
    "\n",
    "# 踢球 Play ball\n",
    "button_Play_Ball = widgets.Button(        \n",
    "    description=Name_widgets['Play_Ball'][g_ENABLE_CHINESE],        \n",
    "    button_style='info', # 'success', 'info', 'warning', 'danger' or ''     \n",
    "    tooltip='Description',     \n",
    "    icon='uncheck' )"
   ]
  },
  {
   "cell_type": "code",
   "execution_count": null,
   "metadata": {},
   "outputs": [],
   "source": [
    "# 按键按下事件处理   Key press event processing\n",
    "def on_button_clicked(b):\n",
    "    global play_state\n",
    "    with output:\n",
    "        print(\"Button clicked:\", b.description)\n",
    "    if b.description == Name_widgets['Stop'][g_ENABLE_CHINESE]:\n",
    "        play_state = 0\n",
    "        g_dog.reset()\n",
    "    elif b.description == Name_widgets['Play_Ball'][g_ENABLE_CHINESE]:\n",
    "        play_state = 1\n",
    "        thread1 = threading.Thread(target=play_ball_task)\n",
    "        thread1.setDaemon(True)\n",
    "        thread1.start()\n"
   ]
  },
  {
   "cell_type": "code",
   "execution_count": null,
   "metadata": {},
   "outputs": [],
   "source": [
    "# 关联按键事件回调 Button event callbacks\n",
    "button_Stop.on_click(on_button_clicked)\n",
    "button_Play_Ball.on_click(on_button_clicked)"
   ]
  },
  {
   "cell_type": "code",
   "execution_count": null,
   "metadata": {},
   "outputs": [],
   "source": [
    "# 摄像头显示画面  Camera display screen\n",
    "def camera_show_task():\n",
    "    t_start = time.time()\n",
    "    fps = 0\n",
    "    while True:\n",
    "        ret, frame = image.read()\n",
    "        fps = fps + 1\n",
    "        mfps = fps / (time.time() - t_start)\n",
    "        cv2.putText(frame, \"FPS \" + str(int(mfps)), (40,40), cv2.FONT_HERSHEY_SIMPLEX, 0.8, (0,255,255), 3)\n",
    "        image_widget.value = bgr8_to_jpeg(frame)\n",
    "        # time.sleep(.1)\n"
   ]
  },
  {
   "cell_type": "code",
   "execution_count": null,
   "metadata": {},
   "outputs": [],
   "source": [
    "# 机器狗恢复默认姿态  DOGZILLA reverts to default\n",
    "g_dog.reset()"
   ]
  },
  {
   "cell_type": "code",
   "execution_count": null,
   "metadata": {},
   "outputs": [],
   "source": [
    "# 启动摄像头显示任务  Start the camera display task\n",
    "thread1 = threading.Thread(target=camera_show_task)\n",
    "thread1.setDaemon(True)\n",
    "thread1.start()\n",
    "\n",
    "output = widgets.Output()\n",
    "box_btn = widgets.VBox([button_Play_Ball, button_Stop, button_Close_Camera])\n",
    "box_display = widgets.HBox([image_widget, box_btn, output])\n",
    "display(box_display)\n"
   ]
  }
 ],
 "metadata": {
  "kernelspec": {
   "display_name": "Python 3 (ipykernel)",
   "language": "python",
   "name": "python3"
  },
  "language_info": {
   "codemirror_mode": {
    "name": "ipython",
    "version": 3
   },
   "file_extension": ".py",
   "mimetype": "text/x-python",
   "name": "python",
   "nbconvert_exporter": "python",
   "pygments_lexer": "ipython3",
   "version": "3.8.10"
  },
  "vscode": {
   "interpreter": {
    "hash": "81794d4967e6c3204c66dcd87b604927b115b27c00565d3d43f05ba2f3a2cb0d"
   }
  }
 },
 "nbformat": 4,
 "nbformat_minor": 4
}
