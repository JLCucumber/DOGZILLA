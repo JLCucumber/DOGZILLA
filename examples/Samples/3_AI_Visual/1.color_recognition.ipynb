{
 "cells": [
  {
   "cell_type": "markdown",
   "metadata": {},
   "source": [
    "<center><img src=\"logo.png\" alt=\"Header\" style=\"width: 800px;\"/></center>"
   ]
  },
  {
   "cell_type": "code",
   "execution_count": null,
   "metadata": {},
   "outputs": [],
   "source": [
    "# 导入库  import library\n",
    "import cv2\n",
    "import ipywidgets.widgets as widgets\n",
    "from IPython.display import display\n",
    "import time\n",
    "import threading\n",
    "import inspect\n",
    "import ctypes\n",
    "import numpy as np"
   ]
  },
  {
   "cell_type": "code",
   "execution_count": null,
   "metadata": {},
   "outputs": [],
   "source": [
    "# Dogzilla drive library\n",
    "from DOGZILLALib import DOGZILLA\n",
    "g_dog = DOGZILLA()"
   ]
  },
  {
   "cell_type": "markdown",
   "metadata": {},
   "source": [
    "# 颜色识别  Color Recognition"
   ]
  },
  {
   "cell_type": "code",
   "execution_count": null,
   "metadata": {},
   "outputs": [],
   "source": [
    "# 中文开关，默认为英文 Chinese switch. The default value is English\n",
    "g_ENABLE_CHINESE = False\n",
    "\n",
    "Name_widgets = {\n",
    "    'Close_Camera': (\"Close_Camera\", \"关闭摄像头\")\n",
    "}"
   ]
  },
  {
   "cell_type": "code",
   "execution_count": null,
   "metadata": {},
   "outputs": [],
   "source": [
    "# 图像数据转化  Image data transformation\n",
    "def bgr8_to_jpeg(value, quality=75):\n",
    "    return bytes(cv2.imencode('.jpg', value)[1])"
   ]
  },
  {
   "cell_type": "code",
   "execution_count": null,
   "metadata": {},
   "outputs": [],
   "source": [
    "# 关闭线程  stop thread\n",
    "def _async_raise(tid, exctype):\n",
    "    \"\"\"raises the exception, performs cleanup if needed\"\"\"\n",
    "    tid = ctypes.c_long(tid)\n",
    "    if not inspect.isclass(exctype):\n",
    "        exctype = type(exctype)\n",
    "    res = ctypes.pythonapi.PyThreadState_SetAsyncExc(tid, ctypes.py_object(exctype))\n",
    "    if res == 0:\n",
    "        raise ValueError(\"invalid thread id\")\n",
    "    elif res != 1:\n",
    "        # \"\"\"if it returns a number greater than one, you're in trouble,\n",
    "        # and you should call it again with exc=NULL to revert the effect\"\"\"\n",
    "        ctypes.pythonapi.PyThreadState_SetAsyncExc(tid, None)\n",
    "        \n",
    "def stop_thread(thread):\n",
    "    _async_raise(thread.ident, SystemExit)"
   ]
  },
  {
   "cell_type": "code",
   "execution_count": null,
   "metadata": {},
   "outputs": [],
   "source": [
    "# 摄像头显示控件  Camera display widgets\n",
    "DISPLAY_WIDTH = 640\n",
    "DISPLAY_HEIGHT = 480\n",
    "origin_widget = widgets.Image(format='jpeg', width=DISPLAY_WIDTH, height=DISPLAY_HEIGHT)\n",
    "mask_widget = widgets.Image(format='jpeg',width=DISPLAY_WIDTH, height=DISPLAY_HEIGHT)\n",
    "result_widget = widgets.Image(format='jpeg',width=DISPLAY_WIDTH, height=DISPLAY_HEIGHT)\n",
    "\n",
    "\n",
    "# 打开摄像头，数字0需根据/dev/videoX修改为X\n",
    "# Turn on the camera, you need to change the number 0 to X based on /dev/videoX\n",
    "image = cv2.VideoCapture(0)\n",
    "image.set(3, 640)\n",
    "image.set(4, 480)\n",
    "image.set(5, 30)\n",
    "image.set(cv2.CAP_PROP_FOURCC, cv2.VideoWriter.fourcc('M', 'J', 'P', 'G'))\n"
   ]
  },
  {
   "cell_type": "code",
   "execution_count": null,
   "metadata": {},
   "outputs": [],
   "source": [
    "# 关闭摄像头 Close_Camera\n",
    "button_Close_Camera = widgets.Button(  \n",
    "    value=False,  \n",
    "    description=Name_widgets['Close_Camera'][g_ENABLE_CHINESE],      \n",
    "    button_style='danger', # 'success', 'info', 'warning', 'danger' or ''     \n",
    "    tooltip='Description',     \n",
    "    icon='uncheck' )\n",
    "\n",
    "\n",
    "# 按键按下事件处理   Key press event processing\n",
    "def on_button_close_camera(b):\n",
    "    if b.description == Name_widgets['Close_Camera'][g_ENABLE_CHINESE]:\n",
    "        # 停止线程，释放摄像头  Stop the thread and release the camera\n",
    "        b.icon = 'uncheck'\n",
    "        stop_thread(thread1)\n",
    "        image.release()\n",
    "    \n",
    "# 关联按键事件回调 Button event callbacks\n",
    "button_Close_Camera.on_click(on_button_close_camera)"
   ]
  },
  {
   "cell_type": "code",
   "execution_count": null,
   "metadata": {},
   "outputs": [],
   "source": [
    "# 默认选择红色的，想识别其他请注释下面红色区间代码，放开后面其他区间代码段\n",
    "# The default is red. If you want to identify others, please comment the following red interval code, and let go of other interval code segments\n",
    "# 红色区间  Red range\n",
    "color_lower = np.array([0, 43, 46])\n",
    "color_upper = np.array([10, 255, 255])\n",
    "\n",
    "# #绿色区间 Green range\n",
    "# color_lower = np.array([35, 43, 46])\n",
    "# color_upper = np.array([77, 255, 255])\n",
    "\n",
    "# #蓝色区间 Blue range\n",
    "# color_lower=np.array([100, 43, 46])\n",
    "# color_upper = np.array([124, 255, 255])\n",
    "\n",
    "# #黄色区间 Yello range\n",
    "# color_lower = np.array([26, 43, 46])\n",
    "# color_upper = np.array([34, 255, 255])\n",
    "\n",
    "\n",
    "# 颜色识别功能任务  Color recognition task\n",
    "def Color_Recongnize_Task():\n",
    "    while(True):\n",
    "        ret, frame = image.read()\n",
    "        origin_widget.value = bgr8_to_jpeg(frame)\n",
    "\n",
    "        # 改为HSV模型 change to hsv model\n",
    "        hsv = cv2.cvtColor(frame, cv2.COLOR_BGR2HSV)\n",
    "\n",
    "        # get mask 利用inRange()函数和HSV模型中所选颜色范围的上下界获取mask，\n",
    "        # mask中原视频中的所选颜色部分会被弄成白色，其他部分黑色。\n",
    "        # Get Mask uses the inRange() function and the upper and lower bounds of the selected color range in the HSV model to obtain the mask. \n",
    "        # The selected color part of the mask in the original video will be made white, and the other parts will be black.\n",
    "        mask = cv2.inRange(hsv, color_lower, color_upper)\n",
    "        mask_widget.value = bgr8_to_jpeg(mask)\n",
    "\n",
    "        # detect blue 将mask于原视频帧进行按位与操作，\n",
    "        # 则会把mask中的白色用真实的图像替换\n",
    "        # Detect Blue will bitwise and operate the mask in the original video frame, \n",
    "        # then replace the white in the mask with the real image\n",
    "        res = cv2.bitwise_and(frame, frame, mask=mask)\n",
    "        result_widget.value = bgr8_to_jpeg(res)\n"
   ]
  },
  {
   "cell_type": "code",
   "execution_count": null,
   "metadata": {},
   "outputs": [],
   "source": [
    "# 启动摄像头显示任务  Start the camera display task\n",
    "thread1 = threading.Thread(target=Color_Recongnize_Task)\n",
    "thread1.setDaemon(True)\n",
    "thread1.start()\n",
    "\n",
    "# 创建一个横向的盒子容器，以便将图像小部件相邻放置\n",
    "# create a horizontal box container to place the image widget next to eachother\n",
    "image_container_mask = widgets.HBox([origin_widget, mask_widget])\n",
    "image_container_result = widgets.HBox([origin_widget, result_widget])\n",
    "box_display = widgets.VBox([image_container_mask, image_container_result, button_Close_Camera])\n",
    "display(box_display)"
   ]
  }
 ],
 "metadata": {
  "kernelspec": {
   "display_name": "Python 3 (ipykernel)",
   "language": "python",
   "name": "python3"
  },
  "language_info": {
   "codemirror_mode": {
    "name": "ipython",
    "version": 3
   },
   "file_extension": ".py",
   "mimetype": "text/x-python",
   "name": "python",
   "nbconvert_exporter": "python",
   "pygments_lexer": "ipython3",
   "version": "3.8.10"
  }
 },
 "nbformat": 4,
 "nbformat_minor": 4
}
