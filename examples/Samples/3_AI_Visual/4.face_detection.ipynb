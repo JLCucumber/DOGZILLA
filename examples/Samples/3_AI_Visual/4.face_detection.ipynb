{
 "cells": [
  {
   "cell_type": "markdown",
   "metadata": {},
   "source": [
    "<center><img src=\"./logo.png\" alt=\"Header\" style=\"width: 800px;\"/></center>"
   ]
  },
  {
   "cell_type": "code",
   "execution_count": null,
   "metadata": {},
   "outputs": [],
   "source": [
    "# 导入库  import library\n",
    "import cv2\n",
    "import ipywidgets.widgets as widgets\n",
    "from IPython.display import display\n",
    "import time\n",
    "import threading\n",
    "import inspect\n",
    "import ctypes\n",
    "import numpy as np"
   ]
  },
  {
   "cell_type": "code",
   "execution_count": null,
   "metadata": {},
   "outputs": [],
   "source": [
    "# Dogzilla drive library\n",
    "from DOGZILLALib import DOGZILLA\n",
    "g_dog = DOGZILLA()"
   ]
  },
  {
   "cell_type": "markdown",
   "metadata": {},
   "source": [
    "# 人脸检测  face detection"
   ]
  },
  {
   "cell_type": "code",
   "execution_count": null,
   "metadata": {},
   "outputs": [],
   "source": [
    "# 中文开关，默认为英文 Chinese switch. The default value is English\n",
    "g_ENABLE_CHINESE = False\n",
    "\n",
    "Name_widgets = {\n",
    "    'Close_Camera': (\"Close_Camera\", \"关闭摄像头\")\n",
    "}"
   ]
  },
  {
   "cell_type": "code",
   "execution_count": null,
   "metadata": {},
   "outputs": [],
   "source": [
    "# 图像数据转化  Image data transformation\n",
    "def bgr8_to_jpeg(value, quality=75):\n",
    "    return bytes(cv2.imencode('.jpg', value)[1])"
   ]
  },
  {
   "cell_type": "code",
   "execution_count": null,
   "metadata": {},
   "outputs": [],
   "source": [
    "# 关闭线程  stop thread\n",
    "def _async_raise(tid, exctype):\n",
    "    \"\"\"raises the exception, performs cleanup if needed\"\"\"\n",
    "    tid = ctypes.c_long(tid)\n",
    "    if not inspect.isclass(exctype):\n",
    "        exctype = type(exctype)\n",
    "    res = ctypes.pythonapi.PyThreadState_SetAsyncExc(tid, ctypes.py_object(exctype))\n",
    "    if res == 0:\n",
    "        raise ValueError(\"invalid thread id\")\n",
    "    elif res != 1:\n",
    "        # \"\"\"if it returns a number greater than one, you're in trouble,\n",
    "        # and you should call it again with exc=NULL to revert the effect\"\"\"\n",
    "        ctypes.pythonapi.PyThreadState_SetAsyncExc(tid, None)\n",
    "        \n",
    "def stop_thread(thread):\n",
    "    _async_raise(thread.ident, SystemExit)"
   ]
  },
  {
   "cell_type": "code",
   "execution_count": null,
   "metadata": {},
   "outputs": [],
   "source": [
    "# 摄像头显示控件  Camera display widgets\n",
    "image_widget = widgets.Image(format='jpeg',width=640, height=480)\n",
    "\n",
    "\n",
    "# 打开摄像头，数字0需根据/dev/videoX修改为X\n",
    "# Turn on the camera, you need to change the number 0 to X based on /dev/videoX\n",
    "image = cv2.VideoCapture(0)\n",
    "image.set(3, 640)\n",
    "image.set(4, 480)\n",
    "image.set(5, 30)\n",
    "image.set(cv2.CAP_PROP_FOURCC, cv2.VideoWriter.fourcc('M', 'J', 'P', 'G'))\n"
   ]
  },
  {
   "cell_type": "code",
   "execution_count": null,
   "metadata": {},
   "outputs": [],
   "source": [
    "# 关闭摄像头 Close_Camera\n",
    "button_Close_Camera = widgets.Button(  \n",
    "    value=False,  \n",
    "    description=Name_widgets['Close_Camera'][g_ENABLE_CHINESE],      \n",
    "    button_style='danger', # 'success', 'info', 'warning', 'danger' or ''     \n",
    "    tooltip='Description',     \n",
    "    icon='uncheck' )\n",
    "\n",
    "\n",
    "# 按键按下事件处理   Key press event processing\n",
    "def on_button_close_camera(b):\n",
    "    if b.description == Name_widgets['Close_Camera'][g_ENABLE_CHINESE]:\n",
    "        # 停止线程，释放摄像头  Stop the thread and release the camera\n",
    "        b.icon = 'uncheck'\n",
    "        stop_thread(thread1)\n",
    "        image.release()\n",
    "    \n",
    "# 关联按键事件回调 Button event callbacks\n",
    "button_Close_Camera.on_click(on_button_close_camera)"
   ]
  },
  {
   "cell_type": "code",
   "execution_count": null,
   "metadata": {
    "scrolled": true
   },
   "outputs": [],
   "source": [
    "# 导入人脸Haar特征分类器  Import face Haar feature classifier\n",
    "face_haar = cv2.CascadeClassifier(\"haarcascade_profileface.xml\")\n",
    "def Camera_display():\n",
    "    fps = 0\n",
    "    t_start = time.time()\n",
    "    while True:\n",
    "        ret, frame = image.read()\n",
    "        # 把图像转为黑白图像\n",
    "        gray_img = cv2.cvtColor(frame, cv2.COLOR_BGR2GRAY)\n",
    "        # 对灰度图像进行检测\n",
    "        faces = face_haar.detectMultiScale(gray_img, 1.1, 3)\n",
    "        for face_x,face_y,face_w,face_h in faces:\n",
    "            cv2.rectangle(frame, (face_x, face_y), (face_x+face_w, face_y+face_h), (0,255,0), 2)\n",
    "        fps = fps + 1\n",
    "        mfps = fps / (time.time() - t_start)\n",
    "        cv2.putText(frame, \"FPS \" + str(int(mfps)), (40,40), cv2.FONT_HERSHEY_SIMPLEX, 0.8, (0,255,255), 3)\n",
    "        image_widget.value = bgr8_to_jpeg(frame)\n"
   ]
  },
  {
   "cell_type": "code",
   "execution_count": null,
   "metadata": {
    "tags": []
   },
   "outputs": [],
   "source": [
    "# 启动摄像头显示任务  Start the camera display task\n",
    "thread1 = threading.Thread(target=Camera_display)\n",
    "thread1.setDaemon(True)\n",
    "thread1.start()\n",
    "\n",
    "\n",
    "box_display = widgets.HBox([image_widget, button_Close_Camera])\n",
    "display(box_display)"
   ]
  },
  {
   "cell_type": "code",
   "execution_count": null,
   "metadata": {},
   "outputs": [],
   "source": []
  }
 ],
 "metadata": {
  "kernelspec": {
   "display_name": "Python 3 (ipykernel)",
   "language": "python",
   "name": "python3"
  },
  "language_info": {
   "codemirror_mode": {
    "name": "ipython",
    "version": 3
   },
   "file_extension": ".py",
   "mimetype": "text/x-python",
   "name": "python",
   "nbconvert_exporter": "python",
   "pygments_lexer": "ipython3",
   "version": "3.8.10"
  }
 },
 "nbformat": 4,
 "nbformat_minor": 4
}
