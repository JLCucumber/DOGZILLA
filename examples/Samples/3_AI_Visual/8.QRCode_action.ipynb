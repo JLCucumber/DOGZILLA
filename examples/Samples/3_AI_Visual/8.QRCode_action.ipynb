{
 "cells": [
  {
   "cell_type": "markdown",
   "metadata": {},
   "source": [
    "<center><img src=\"logo.png\" alt=\"Header\" style=\"width: 800px;\"/></center>"
   ]
  },
  {
   "cell_type": "code",
   "execution_count": 1,
   "metadata": {},
   "outputs": [],
   "source": [
    "# 导入库  import library\n",
    "import cv2\n",
    "import ipywidgets.widgets as widgets\n",
    "from IPython.display import display\n",
    "import time\n",
    "import threading\n",
    "import inspect\n",
    "import ctypes\n",
    "import numpy as np\n",
    "import pyzbar.pyzbar as pyzbar"
   ]
  },
  {
   "cell_type": "code",
   "execution_count": 2,
   "metadata": {},
   "outputs": [],
   "source": [
    "# Dogzilla drive library\n",
    "from DOGZILLALib import DOGZILLA\n",
    "g_dog = DOGZILLA()"
   ]
  },
  {
   "cell_type": "markdown",
   "metadata": {},
   "source": [
    "# 二维码识别动作  QRcode recognition action"
   ]
  },
  {
   "cell_type": "code",
   "execution_count": 3,
   "metadata": {},
   "outputs": [],
   "source": [
    "# 中文开关，默认为英文 Chinese switch. The default value is English\n",
    "g_ENABLE_CHINESE = False\n",
    "\n",
    "Name_widgets = {\n",
    "    'Close_Camera': (\"Close_Camera\", \"关闭摄像头\")\n",
    "}"
   ]
  },
  {
   "cell_type": "code",
   "execution_count": 4,
   "metadata": {},
   "outputs": [],
   "source": [
    "# 图像数据转化  Image data transformation\n",
    "def bgr8_to_jpeg(value, quality=75):\n",
    "    return bytes(cv2.imencode('.jpg', value)[1])"
   ]
  },
  {
   "cell_type": "code",
   "execution_count": 5,
   "metadata": {},
   "outputs": [],
   "source": [
    "# 关闭线程  stop thread\n",
    "def _async_raise(tid, exctype):\n",
    "    \"\"\"raises the exception, performs cleanup if needed\"\"\"\n",
    "    tid = ctypes.c_long(tid)\n",
    "    if not inspect.isclass(exctype):\n",
    "        exctype = type(exctype)\n",
    "    res = ctypes.pythonapi.PyThreadState_SetAsyncExc(tid, ctypes.py_object(exctype))\n",
    "    if res == 0:\n",
    "        raise ValueError(\"invalid thread id\")\n",
    "    elif res != 1:\n",
    "        # \"\"\"if it returns a number greater than one, you're in trouble,\n",
    "        # and you should call it again with exc=NULL to revert the effect\"\"\"\n",
    "        ctypes.pythonapi.PyThreadState_SetAsyncExc(tid, None)\n",
    "        \n",
    "def stop_thread(thread):\n",
    "    _async_raise(thread.ident, SystemExit)"
   ]
  },
  {
   "cell_type": "code",
   "execution_count": 6,
   "metadata": {},
   "outputs": [
    {
     "data": {
      "text/plain": [
       "True"
      ]
     },
     "execution_count": 6,
     "metadata": {},
     "output_type": "execute_result"
    }
   ],
   "source": [
    "# 创建摄像头显示组件  Create the camera display component\n",
    "image_widget = widgets.Image(format='jpeg', width=640, height=480)  \n",
    "\n",
    "# 打开摄像头，数字0需根据/dev/videoX修改为X\n",
    "# Turn on the camera, you need to change the number 0 to X based on /dev/videoX\n",
    "image = cv2.VideoCapture(0)\n",
    "image.set(3, 640)\n",
    "image.set(4, 480)\n",
    "image.set(5, 30)\n",
    "image.set(cv2.CAP_PROP_FOURCC, cv2.VideoWriter.fourcc('M', 'J', 'P', 'G'))"
   ]
  },
  {
   "cell_type": "code",
   "execution_count": 7,
   "metadata": {},
   "outputs": [],
   "source": [
    "# 关闭摄像头 Close_Camera\n",
    "button_Close_Camera = widgets.Button(  \n",
    "    value=False,  \n",
    "    description=Name_widgets['Close_Camera'][g_ENABLE_CHINESE],      \n",
    "    button_style='danger', # 'success', 'info', 'warning', 'danger' or ''     \n",
    "    tooltip='Description',     \n",
    "    icon='uncheck' )\n",
    "\n",
    "\n",
    "# 按键按下事件处理   Key press event processing\n",
    "def on_button_close_camera(b):\n",
    "    if b.description == Name_widgets['Close_Camera'][g_ENABLE_CHINESE]:\n",
    "        # 停止线程，释放摄像头  Stop the thread and release the camera\n",
    "        b.icon = 'uncheck'\n",
    "        stop_thread(thread1)\n",
    "        image.release()\n",
    "    \n",
    "# 关联按键事件回调 Button event callbacks\n",
    "button_Close_Camera.on_click(on_button_close_camera)"
   ]
  },
  {
   "cell_type": "code",
   "execution_count": 8,
   "metadata": {},
   "outputs": [],
   "source": [
    "# 根据识别到的命令做动作 Act on recognized commands\n",
    "def control_action(info):\n",
    "    if info == \"LIE DOWN\":\n",
    "        g_dog.action(1) #趴下\n",
    "        \n",
    "    elif info == \"STAND UP\":\n",
    "        g_dog.action(2)  #站起\n",
    "        \n",
    "    elif info == \"CRAWL\":\n",
    "        g_dog.action(3)  #匍匐前进\n",
    "        \n",
    "    elif info == \"TURN AROUND\":\n",
    "        g_dog.action(4) #转圈\n",
    "        \n",
    "    elif info == \"MARK TIME\":\n",
    "        g_dog.action(5) #原地踏步\n",
    "        \n",
    "    elif info == \"SQUAT\":\n",
    "        g_dog.action(6) #蹲起\n",
    "        \n",
    "    elif info == \"TURN ROLL\":\n",
    "        g_dog.action(7) #转动ROLL\n",
    "        \n",
    "    elif info == \"TURN PITCH\":\n",
    "        g_dog.action(8) #转动PITCH\n",
    "        \n",
    "    elif info == \"TURN YAW\":\n",
    "        g_dog.action(9) #转动YAW\n",
    "        \n",
    "    elif info == \"3 AXIS\":\n",
    "        g_dog.action(10) #三轴联动\n",
    "        \n",
    "    elif info == \"PEE\":\n",
    "        g_dog.action(11) #撒尿\n",
    "        \n",
    "    elif info == \"SIT DOWN\":\n",
    "        g_dog.action(12) #坐下\n",
    "        \n",
    "    elif info == \"WAVE(HAND)\":\n",
    "        g_dog.action(13) #招手\n",
    "        \n",
    "    elif info == \"STRETCH\":\n",
    "        g_dog.action(14) #伸懒腰\n",
    "        \n",
    "    elif info == \"WAVE(BODY)\":\n",
    "        g_dog.action(15) #波浪\n",
    "    \n",
    "    elif info == \"SWING\":\n",
    "        g_dog.action(16) #摇摆\n",
    "    \n",
    "    elif info == \"PRAY\":\n",
    "        g_dog.action(17) #求食\n",
    "        \n",
    "    elif info == \"SEEK\":\n",
    "        g_dog.action(18) #找食物\n",
    "        \n",
    "    elif info == \"HANDSHAKE\":\n",
    "        g_dog.action(19) #握手\n",
    "    "
   ]
  },
  {
   "cell_type": "code",
   "execution_count": 9,
   "metadata": {},
   "outputs": [],
   "source": [
    "# 解析图像中的二维码信息  Analyze the qrcode information in the image\n",
    "def decodeDisplay(image, display):\n",
    "    barcodes = pyzbar.decode(image)\n",
    "    for barcode in barcodes:\n",
    "        # 提取二维码的边界框的位置, 画出图像中条形码的边界框\n",
    "        # Extract the position of the bounding box of the qrcode, \n",
    "        # and draw the bounding box of the barcode in the image\n",
    "        (x, y, w, h) = barcode.rect\n",
    "        cv2.rectangle(display, (x, y), (x + w, y + h), (225, 225, 225), 2)\n",
    "\n",
    "        # 提取二维码数据为字节对象，转换成字符串\n",
    "        # The qrcode data is extracted as byte objects and converted into strings\n",
    "        barcodeData = barcode.data.decode(\"utf-8\")\n",
    "        barcodeType = barcode.type\n",
    "\n",
    "        # 绘出图像上条形码的数据和条形码类型  \n",
    "        # Plot the barcode data and barcode type on the image\n",
    "        text = \"{} ({})\".format(barcodeData, barcodeType)\n",
    "        cv2.putText(display, text, (x, y - 10), cv2.FONT_HERSHEY_SIMPLEX, 0.5, (225, 0, 0), 2)\n",
    "\n",
    "        print(\"[INFO] Found {} barcode: {}\".format(barcodeType, barcodeData))\n",
    "        control_action(barcodeData)\n",
    "    return display\n",
    "\n",
    "# 检测二维码  detect qrcode\n",
    "def Detect_Qrcode_Task():\n",
    "    ret, frame = image.read()\n",
    "    image_widget.value = bgr8_to_jpeg(frame)\n",
    "    t_start = time.time()\n",
    "    fps = 0\n",
    "    while True:\n",
    "        ret, frame = image.read()\n",
    "        # 转为灰度图像  Convert to grayscale image\n",
    "        gray = cv2.cvtColor(frame, cv2.COLOR_BGR2GRAY)\n",
    "        frame = decodeDisplay(gray, frame)\n",
    "        fps = fps + 1\n",
    "        mfps = fps / (time.time() - t_start)\n",
    "        cv2.putText(frame, \"FPS \" + str(int(mfps)), (40,40), cv2.FONT_HERSHEY_SIMPLEX, 0.8, (0,255,255), 3)\n",
    "        image_widget.value = bgr8_to_jpeg(frame)\n"
   ]
  },
  {
   "cell_type": "code",
   "execution_count": 10,
   "metadata": {},
   "outputs": [
    {
     "data": {
      "application/vnd.jupyter.widget-view+json": {
       "model_id": "7ca25a2618614b44b3c1fdecb05afd78",
       "version_major": 2,
       "version_minor": 0
      },
      "text/plain": [
       "HBox(children=(Image(value=b'', format='jpeg', height='480', width='640'), Button(button_style='danger', descr…"
      ]
     },
     "metadata": {},
     "output_type": "display_data"
    }
   ],
   "source": [
    "# 启动摄像头显示任务  Start the camera display task\n",
    "thread1 = threading.Thread(target=Detect_Qrcode_Task)\n",
    "thread1.setDaemon(True)\n",
    "thread1.start()\n",
    "\n",
    "box_display = widgets.HBox([image_widget, button_Close_Camera])\n",
    "display(box_display)"
   ]
  },
  {
   "cell_type": "code",
   "execution_count": null,
   "metadata": {},
   "outputs": [],
   "source": []
  }
 ],
 "metadata": {
  "kernelspec": {
   "display_name": "Python 3 (ipykernel)",
   "language": "python",
   "name": "python3"
  },
  "language_info": {
   "codemirror_mode": {
    "name": "ipython",
    "version": 3
   },
   "file_extension": ".py",
   "mimetype": "text/x-python",
   "name": "python",
   "nbconvert_exporter": "python",
   "pygments_lexer": "ipython3",
   "version": "3.8.10"
  }
 },
 "nbformat": 4,
 "nbformat_minor": 4
}
