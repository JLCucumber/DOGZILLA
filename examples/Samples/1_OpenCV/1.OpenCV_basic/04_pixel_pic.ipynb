{
 "cells": [
  {
   "cell_type": "markdown",
   "metadata": {},
   "source": [
    "<center><img src=\"../logo.png\" alt=\"Header\" style=\"width: 800px;\"/></center>"
   ]
  },
  {
   "cell_type": "code",
   "execution_count": 1,
   "metadata": {},
   "outputs": [
    {
     "name": "stdout",
     "output_type": "stream",
     "text": [
      "135 76 56\n"
     ]
    }
   ],
   "source": [
    "import cv2\n",
    "\n",
    "img = cv2.imread('yahboom.jpg',1)\n",
    "(b,g,r) = img[100,100]\n",
    "print(b,g,r)# bgr\n",
    "#10 100 --- 110 100\n",
    "i=j=0\n",
    "for j in range(1,500):\n",
    "    img[i,j] = (255,255,255)\n",
    "    for i in range(1,500):\n",
    "        img[i,j] = (255,255,255)"
   ]
  },
  {
   "cell_type": "markdown",
   "metadata": {},
   "source": [
    "# 以下会在jupyter Lab控件中显示前后像素变化对比显示"
   ]
  },
  {
   "cell_type": "code",
   "execution_count": 2,
   "metadata": {},
   "outputs": [],
   "source": [
    "#bgr8转jpeg格式\n",
    "import enum\n",
    "import cv2\n",
    "\n",
    "def bgr8_to_jpeg(value, quality=75):\n",
    "    return bytes(cv2.imencode('.jpg', value)[1])"
   ]
  },
  {
   "cell_type": "code",
   "execution_count": 3,
   "metadata": {},
   "outputs": [
    {
     "data": {
      "application/vnd.jupyter.widget-view+json": {
       "model_id": "3429b0755d394c36a1c0edb25bf14b98",
       "version_major": 2,
       "version_minor": 0
      },
      "text/plain": [
       "HBox(children=(Image(value=b'', format='jpg', height='300', width='300'), Image(value=b'', format='jpg', heigh…"
      ]
     },
     "metadata": {},
     "output_type": "display_data"
    }
   ],
   "source": [
    "import ipywidgets.widgets as widgets\n",
    "\n",
    "image_widget1 = widgets.Image(format='jpg', width=300, height=300)\n",
    "image_widget2 = widgets.Image(format='jpg', width=300, height=300)\n",
    "# create a horizontal box container to place the image widget next to eachother\n",
    "image_container = widgets.HBox([image_widget1, image_widget2])\n",
    "\n",
    "# display the container in this cell's output\n",
    "display(image_container)\n",
    "\n",
    "img1 = cv2.imread('yahboom.jpg',1)\n",
    "\n",
    "image_widget1.value = bgr8_to_jpeg(img1)  #原始的\n",
    "image_widget2.value = bgr8_to_jpeg(img)   #经过像素操作的"
   ]
  }
 ],
 "metadata": {
  "kernelspec": {
   "display_name": "Python 3 (ipykernel)",
   "language": "python",
   "name": "python3"
  },
  "language_info": {
   "codemirror_mode": {
    "name": "ipython",
    "version": 3
   },
   "file_extension": ".py",
   "mimetype": "text/x-python",
   "name": "python",
   "nbconvert_exporter": "python",
   "pygments_lexer": "ipython3",
   "version": "3.8.10"
  }
 },
 "nbformat": 4,
 "nbformat_minor": 4
}
